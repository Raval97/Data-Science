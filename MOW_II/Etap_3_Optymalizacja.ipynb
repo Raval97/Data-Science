{
 "cells": [
  {
   "cell_type": "markdown",
   "metadata": {},
   "source": [
    "# Motody i narzędzia z etapu 2 wykorzystywane podczas 3 cześci projektu"
   ]
  },
  {
   "cell_type": "markdown",
   "metadata": {},
   "source": [
    "## Pobranie danych"
   ]
  },
  {
   "cell_type": "code",
   "execution_count": 33,
   "metadata": {},
   "outputs": [
    {
     "data": {
      "text/html": [
       "<div>\n",
       "<style scoped>\n",
       "    .dataframe tbody tr th:only-of-type {\n",
       "        vertical-align: middle;\n",
       "    }\n",
       "\n",
       "    .dataframe tbody tr th {\n",
       "        vertical-align: top;\n",
       "    }\n",
       "\n",
       "    .dataframe thead th {\n",
       "        text-align: right;\n",
       "    }\n",
       "</style>\n",
       "<table border=\"1\" class=\"dataframe\">\n",
       "  <thead>\n",
       "    <tr style=\"text-align: right;\">\n",
       "      <th></th>\n",
       "      <th>yr</th>\n",
       "      <th>season</th>\n",
       "      <th>mnth</th>\n",
       "      <th>hr</th>\n",
       "      <th>holiday</th>\n",
       "      <th>weekday</th>\n",
       "      <th>weathersit</th>\n",
       "      <th>temp</th>\n",
       "      <th>atemp</th>\n",
       "      <th>hum</th>\n",
       "      <th>windspeed</th>\n",
       "      <th>cnt</th>\n",
       "    </tr>\n",
       "  </thead>\n",
       "  <tbody>\n",
       "    <tr>\n",
       "      <th>6353</th>\n",
       "      <td>0</td>\n",
       "      <td>4</td>\n",
       "      <td>9</td>\n",
       "      <td>7</td>\n",
       "      <td>0</td>\n",
       "      <td>2</td>\n",
       "      <td>2</td>\n",
       "      <td>0.638860</td>\n",
       "      <td>0.405491</td>\n",
       "      <td>1.689607</td>\n",
       "      <td>-0.699826</td>\n",
       "      <td>249</td>\n",
       "    </tr>\n",
       "    <tr>\n",
       "      <th>8618</th>\n",
       "      <td>0</td>\n",
       "      <td>1</td>\n",
       "      <td>12</td>\n",
       "      <td>21</td>\n",
       "      <td>0</td>\n",
       "      <td>5</td>\n",
       "      <td>2</td>\n",
       "      <td>-0.711435</td>\n",
       "      <td>-0.652568</td>\n",
       "      <td>0.244387</td>\n",
       "      <td>-0.699826</td>\n",
       "      <td>95</td>\n",
       "    </tr>\n",
       "    <tr>\n",
       "      <th>14957</th>\n",
       "      <td>1</td>\n",
       "      <td>3</td>\n",
       "      <td>9</td>\n",
       "      <td>10</td>\n",
       "      <td>0</td>\n",
       "      <td>4</td>\n",
       "      <td>1</td>\n",
       "      <td>0.431122</td>\n",
       "      <td>0.405491</td>\n",
       "      <td>-0.426609</td>\n",
       "      <td>-0.821827</td>\n",
       "      <td>190</td>\n",
       "    </tr>\n",
       "    <tr>\n",
       "      <th>2674</th>\n",
       "      <td>0</td>\n",
       "      <td>2</td>\n",
       "      <td>4</td>\n",
       "      <td>8</td>\n",
       "      <td>0</td>\n",
       "      <td>2</td>\n",
       "      <td>1</td>\n",
       "      <td>0.431122</td>\n",
       "      <td>0.405491</td>\n",
       "      <td>1.121842</td>\n",
       "      <td>0.886187</td>\n",
       "      <td>449</td>\n",
       "    </tr>\n",
       "    <tr>\n",
       "      <th>13290</th>\n",
       "      <td>1</td>\n",
       "      <td>3</td>\n",
       "      <td>7</td>\n",
       "      <td>23</td>\n",
       "      <td>0</td>\n",
       "      <td>4</td>\n",
       "      <td>2</td>\n",
       "      <td>1.054335</td>\n",
       "      <td>1.022691</td>\n",
       "      <td>-1.407294</td>\n",
       "      <td>0.276182</td>\n",
       "      <td>211</td>\n",
       "    </tr>\n",
       "  </tbody>\n",
       "</table>\n",
       "</div>"
      ],
      "text/plain": [
       "       yr  season  mnth  hr  holiday  weekday  weathersit      temp     atemp  \\\n",
       "6353    0       4     9   7        0        2           2  0.638860  0.405491   \n",
       "8618    0       1    12  21        0        5           2 -0.711435 -0.652568   \n",
       "14957   1       3     9  10        0        4           1  0.431122  0.405491   \n",
       "2674    0       2     4   8        0        2           1  0.431122  0.405491   \n",
       "13290   1       3     7  23        0        4           2  1.054335  1.022691   \n",
       "\n",
       "            hum  windspeed  cnt  \n",
       "6353   1.689607  -0.699826  249  \n",
       "8618   0.244387  -0.699826   95  \n",
       "14957 -0.426609  -0.821827  190  \n",
       "2674   1.121842   0.886187  449  \n",
       "13290 -1.407294   0.276182  211  "
      ]
     },
     "execution_count": 33,
     "metadata": {},
     "output_type": "execute_result"
    }
   ],
   "source": [
    "import pandas as pd\n",
    "import numpy as np\n",
    "from sklearn import preprocessing\n",
    "from matplotlib.pyplot import figure\n",
    "from matplotlib import pyplot as plt\n",
    "import statistics\n",
    "from sklearn.utils import shuffle\n",
    "import warnings\n",
    "warnings.filterwarnings(\"ignore\")\n",
    "\n",
    "def read_data():\n",
    "    df = pd.read_excel('./NewData.xlsx')\n",
    "    data = df.loc[:, ~df.columns.str.contains('^Unnamed')]\n",
    "    data =  shuffle(data, random_state=50)\n",
    "    #usunięcie nieużywanych kolumn, ze względu na użycie tylko jednej zminnej objasnianej jako \"cnt\"\n",
    "    data.drop('casual', inplace=True, axis=1)\n",
    "    data.drop('registered', inplace=True, axis=1)\n",
    "    return data\n",
    "    \n",
    "data = read_data()\n",
    "data.head()"
   ]
  },
  {
   "cell_type": "markdown",
   "metadata": {},
   "source": [
    "## Podział danych"
   ]
  },
  {
   "cell_type": "code",
   "execution_count": 34,
   "metadata": {},
   "outputs": [
    {
     "name": "stdout",
     "output_type": "stream",
     "text": [
      "x_train.shape:  (13903, 11)\n",
      "x_test.shape:  (3476, 11)\n",
      "y_train.shape:  (13903, 1)\n",
      "y_test.shape:  (3476, 1)\n"
     ]
    }
   ],
   "source": [
    "def train_test_split(X, Y, test_size):\n",
    "    train_pct_index = int((1 - test_size) * len(X))\n",
    "    X_train, X_test = X[:train_pct_index], X[train_pct_index:]\n",
    "    y_train, y_test = Y[:train_pct_index], Y[train_pct_index:]\n",
    "    return X_train, X_test, y_train, y_test\n",
    "\n",
    "\n",
    "def splitOfData(dataInput, testSize, random_state = 50):\n",
    "    m, n = dataInput.shape\n",
    "    X = (dataInput.iloc[:,:n-1])\n",
    "    Y = (dataInput.iloc[:,n-1:n])\n",
    "    return train_test_split(X, Y, test_size=testSize)\n",
    "\n",
    "x_train, x_test, y_train, y_test = splitOfData(data, 0.20)\n",
    "print(\"x_train.shape: \", x_train.shape)\n",
    "print(\"x_test.shape: \", x_test.shape)\n",
    "print(\"y_train.shape: \", y_train.shape)\n",
    "print(\"y_test.shape: \", y_test.shape)"
   ]
  },
  {
   "cell_type": "markdown",
   "metadata": {},
   "source": [
    "## Miary Skuteczności"
   ]
  },
  {
   "cell_type": "code",
   "execution_count": 3,
   "metadata": {},
   "outputs": [],
   "source": [
    "from sklearn.metrics import mean_squared_error, r2_score, explained_variance_score\n",
    "\n",
    "def calculate_MSE(Y, predykcja):\n",
    "    Y = Y.to_numpy()\n",
    "    m = len(Y)\n",
    "    suma = 0\n",
    "    for i in range(m):\n",
    "        suma += (predykcja[i] - Y[i])**2\n",
    "    return (suma / m)[0]\n",
    "\n",
    "def calculate_r2(Y, predykcja):\n",
    "    Y = Y.to_numpy()\n",
    "    g = 0\n",
    "    y = 0\n",
    "    m = np.mean(Y)\n",
    "    for i in range(len(Y)):\n",
    "        x = (Y[i] - predykcja[i]) **2\n",
    "        g = g + x\n",
    "        y = y + ((Y[i] - m) ** 2)\n",
    "    return (1 - (g / y))[0]\n",
    "\n",
    "def calculate_exp_var_score(y_true, y_pred):\n",
    "    y_true = y_true.to_numpy()\n",
    "    diffr = []\n",
    "    for i in range(len(y_true)):\n",
    "        diffr.append(y_true[i] - y_pred[i]) \n",
    "    x = np.var(diffr) / np.var(y_true)\n",
    "    return 1 - x\n",
    "    \n",
    "def statistics(y_pred, y_test, show_print=False, show_only_custom=False):\n",
    "    custom_MSE = round(calculate_MSE(y_test, y_pred),5)\n",
    "    custom_r2 = round(calculate_r2(y_test, y_pred),5)\n",
    "    custom_evs = round(calculate_exp_var_score(y_test, y_pred),5)\n",
    "    if (show_print):\n",
    "        if(not show_only_custom):\n",
    "            mse = round(mean_squared_error(y_test, y_pred),5)\n",
    "            r2 = round(r2_score(y_test, y_pred),5)\n",
    "            EVS = round(explained_variance_score(y_test, y_pred),5)\n",
    "            print(\"RMSE of test set is {}\".format(mse))\n",
    "            print(\"R2 score of test set is {}\".format(r2))\n",
    "            print(\"EVS score of test set is {}\".format(EVS))\n",
    "            print(\"\\n\")\n",
    "        print(\"Custom MSE test set is {}\".format(custom_MSE))\n",
    "        print(\"Custom r2 test set is {}\".format(custom_r2))\n",
    "        print(\"Custom EVS test set is {}\".format(custom_evs))\n",
    "        if(not show_only_custom):\n",
    "            plt.scatter(x_test[\"temp\"], y_test, color=\"black\")\n",
    "            plt.scatter(x_test[\"temp\"], y_pred, color=\"blue\")\n",
    "            plt.title(\"zalżeność liczby wypożyczeń od temperatury [rzeczywista-czarna, predyktowana-niebieska]\")\n",
    "            plt.xlabel(\"temperatura\")\n",
    "            plt.ylabel(\"cnt\")\n",
    "            plt.show()\n",
    "    return custom_MSE, custom_r2, custom_evs"
   ]
  },
  {
   "cell_type": "markdown",
   "metadata": {},
   "source": [
    "## Regresja Liniowa"
   ]
  },
  {
   "cell_type": "code",
   "execution_count": 9,
   "metadata": {
    "scrolled": true
   },
   "outputs": [
    {
     "name": "stdout",
     "output_type": "stream",
     "text": [
      "Custom MSE test set is 20177.21457\n",
      "Custom r2 test set is 0.38581\n",
      "Custom EVS test set is 0.38618\n"
     ]
    }
   ],
   "source": [
    "from sklearn import linear_model\n",
    "\n",
    "def linear_regression(x_train, x_test, y_train, print_coefficiens=False):\n",
    "    linear_reg = linear_model.LinearRegression()\n",
    "    linear_reg.fit(x_train, y_train)\n",
    "    linear_reg_pred = linear_reg.predict(x_test)\n",
    "    if (print_coefficiens):\n",
    "        linear_reg_coefficients = linear_reg.coef_[0]\n",
    "        print(\"coefficients:\\n\", linear_reg_coefficients)\n",
    "        index = ['yr', 'season', 'mnth', 'hr', 'holiday', 'weekday', 'weathersit', 'temp', 'atemp', 'hum', 'windspeed']\n",
    "        coefficients_frame = pd.DataFrame({'parametr': index, 'Coefficients': linear_reg_coefficients})\n",
    "        coefficients_frame.plot.bar(x='parametr', y='Coefficients', rot=90)\n",
    "        plt.show()\n",
    "    return linear_reg_pred\n",
    "\n",
    "linear = linear_regression(x_train, x_test, y_train)\n",
    "a,b,c = statistics(linear, y_test, True, True)"
   ]
  },
  {
   "cell_type": "markdown",
   "metadata": {},
   "source": [
    "## Regresja wielomianowa"
   ]
  },
  {
   "cell_type": "code",
   "execution_count": 10,
   "metadata": {
    "scrolled": true
   },
   "outputs": [
    {
     "name": "stdout",
     "output_type": "stream",
     "text": [
      "Custom MSE test set is 15331.44125\n",
      "Custom r2 test set is 0.53332\n",
      "Custom EVS test set is 0.53344\n"
     ]
    }
   ],
   "source": [
    "from sklearn.preprocessing import PolynomialFeatures\n",
    "\n",
    "def polynomial_regression(x_train, x_test, y_train):\n",
    "    poly_features = PolynomialFeatures(2)\n",
    "    x_train_poly = poly_features.fit_transform(x_train)\n",
    "    poly_model = linear_model.LinearRegression()\n",
    "    poly_model.fit(x_train_poly, y_train)\n",
    "    poly_reg_pred = poly_model.predict(poly_features.fit_transform(x_test))\n",
    "    return poly_reg_pred\n",
    "\n",
    "polynomial = polynomial_regression(x_train, x_test, y_train)\n",
    "a, b, c = statistics(polynomial, y_test, True, True)"
   ]
  },
  {
   "cell_type": "markdown",
   "metadata": {},
   "source": [
    "## Decision Tree Regression"
   ]
  },
  {
   "cell_type": "code",
   "execution_count": 11,
   "metadata": {},
   "outputs": [
    {
     "name": "stdout",
     "output_type": "stream",
     "text": [
      "Custom MSE test set is 3358.48741\n",
      "Custom r2 test set is 0.89777\n",
      "Custom EVS test set is 0.89779\n"
     ]
    }
   ],
   "source": [
    "from sklearn.tree import DecisionTreeRegressor\n",
    "\n",
    "def decision_tree_regression(x_train, x_test, y_train):\n",
    "    dc_model =  DecisionTreeRegressor()  \n",
    "    dc_model.fit(x_train, y_train)\n",
    "    dc_reg_pred = dc_model.predict(x_test)\n",
    "    return dc_reg_pred\n",
    "\n",
    "decision_tree = decision_tree_regression(x_train, x_test, y_train)\n",
    "a, b, c = statistics(decision_tree, y_test, True, True)"
   ]
  },
  {
   "cell_type": "markdown",
   "metadata": {},
   "source": [
    "## Random Forrest Regression"
   ]
  },
  {
   "cell_type": "code",
   "execution_count": 12,
   "metadata": {},
   "outputs": [
    {
     "name": "stdout",
     "output_type": "stream",
     "text": [
      "Custom MSE test set is 1980.50502\n",
      "Custom r2 test set is 0.93971\n",
      "Custom EVS test set is 0.93972\n"
     ]
    }
   ],
   "source": [
    "from sklearn.ensemble import RandomForestRegressor\n",
    "\n",
    "def random_forrest_regression(x_train, x_test, y_train):\n",
    "    rf_model =  RandomForestRegressor()\n",
    "    rf_model.fit(x_train, y_train)\n",
    "    rf_reg_pred = rf_model.predict(x_test)\n",
    "    return rf_reg_pred\n",
    "\n",
    "random_forrest = random_forrest_regression(x_train, x_test, y_train)\n",
    "a, b, c = statistics(random_forrest, y_test, True, True)"
   ]
  },
  {
   "cell_type": "markdown",
   "metadata": {},
   "source": [
    "## Voting Regressor"
   ]
  },
  {
   "cell_type": "code",
   "execution_count": 13,
   "metadata": {},
   "outputs": [
    {
     "name": "stdout",
     "output_type": "stream",
     "text": [
      "Custom MSE test set is 2318.62262\n",
      "Custom r2 test set is 0.92942\n",
      "Custom EVS test set is 0.92942\n"
     ]
    }
   ],
   "source": [
    "from sklearn.ensemble import VotingRegressor\n",
    "\n",
    "def voting_regression(x_train, x_test, y_train):\n",
    "    lr_model = linear_model.LinearRegression()\n",
    "    dc_model = DecisionTreeRegressor()  \n",
    "    rf_model = RandomForestRegressor()\n",
    "    voting_model =  VotingRegressor([('lr', lr_model), ('dc', dc_model), ('rf', rf_model)],\n",
    "                                    weights=[1, 4,5],n_jobs=-1)\n",
    "    voting_model.fit(x_train, y_train)\n",
    "    voiting_reg_pred = voting_model.predict(x_test)\n",
    "    return voiting_reg_pred\n",
    "\n",
    "voting_regressor = voting_regression(x_train, x_test, y_train)\n",
    "a, b, c = statistics(voting_regressor, y_test, True, True)"
   ]
  },
  {
   "cell_type": "markdown",
   "metadata": {},
   "source": [
    "## Stacking Regressor"
   ]
  },
  {
   "cell_type": "code",
   "execution_count": 14,
   "metadata": {},
   "outputs": [
    {
     "name": "stdout",
     "output_type": "stream",
     "text": [
      "Custom MSE test set is 2240.35368\n",
      "Custom r2 test set is 0.9318\n",
      "Custom EVS test set is 0.93187\n"
     ]
    }
   ],
   "source": [
    "from sklearn.ensemble import StackingRegressor\n",
    "\n",
    "def stacking_regression(x_train, x_test, y_train):\n",
    "    lr_model = linear_model.LinearRegression()\n",
    "    dc_model = DecisionTreeRegressor()  \n",
    "    rf_model = RandomForestRegressor()\n",
    "    estimators = [('lr', lr_model), ('dc', dc_model), ('rf', rf_model)]\n",
    "    stacking_model = StackingRegressor(estimators=estimators, final_estimator=rf_model)\n",
    "    stacking_model.fit(x_train, y_train)\n",
    "    stacking_reg_pred = stacking_model.predict(x_test)\n",
    "    return stacking_reg_pred\n",
    "\n",
    "stacking_regressor = stacking_regression(x_train, x_test, y_train)\n",
    "a, b, c = statistics(stacking_regressor, y_test, True, True)"
   ]
  },
  {
   "cell_type": "markdown",
   "metadata": {},
   "source": [
    "## K - krotna walidacja krzyżowa"
   ]
  },
  {
   "cell_type": "code",
   "execution_count": 15,
   "metadata": {},
   "outputs": [],
   "source": [
    "from random import seed\n",
    "from random import randrange\n",
    "\n",
    "def cross_validation_split(data, folds):\n",
    "    dataset = data.copy().to_numpy()\n",
    "    dataset_split = list()\n",
    "    dataset_copy = list(dataset)\n",
    "    fold_size = int(len(dataset) / folds)\n",
    "    for i in range(folds):\n",
    "        fold = list()\n",
    "        while len(fold) < fold_size:\n",
    "            index = randrange(len(dataset_copy))\n",
    "            fold.append(dataset_copy.pop(index))\n",
    "        dataset_split.append(fold)\n",
    "    return dataset_split"
   ]
  },
  {
   "cell_type": "markdown",
   "metadata": {},
   "source": [
    "## Porównanie modeli regresji"
   ]
  },
  {
   "cell_type": "code",
   "execution_count": 24,
   "metadata": {},
   "outputs": [],
   "source": [
    "def prepare_result(grid_search_optimalization=False):\n",
    "    linear_results = list()\n",
    "    polynomial_results = list()\n",
    "    decision_tree_results = list()\n",
    "    random_forrest_results = list()\n",
    "    voting_results = list()\n",
    "    stacking_results = list()\n",
    "\n",
    "    linear_pred = linear_regression(x_train, x_test, y_train)\n",
    "    polynomial_pred = polynomial_regression(x_train, x_test, y_train)\n",
    "    linear_results.append(statistics(linear_pred, y_test))\n",
    "    polynomial_results.append(statistics(polynomial_pred, y_test))\n",
    "\n",
    "    if (not grid_search_optimalization):\n",
    "        decision_tree_pred = decision_tree_regression(x_train, x_test, y_train)\n",
    "        random_forrest_pred = random_forrest_regression(x_train, x_test, y_train)\n",
    "        voting_pred = voting_regression(x_train, x_test, y_train)\n",
    "        stacking_pred = stacking_regression(x_train, x_test, y_train)\n",
    "    else:\n",
    "        grid_search_dt_result = grid_search_on_decision_tree(x_train, y_train)\n",
    "        grid_search_rf_result = grid_search_on_random_forrest(x_train, y_train)\n",
    "        decision_tree_pred = decision_tree_regression_optimalized(x_train, x_test, y_train, grid_search_dt_result)\n",
    "        random_forrest_pred = random_forrest_regression_optimalized(x_train, x_test, y_train, grid_search_rf_result)\n",
    "        voting_pred = voting_regression_optimalized(x_train, x_test, y_train, grid_search_dt_result, grid_search_rf_result)\n",
    "        stacking_pred = stacking_regression_optimalized(x_train, x_test, y_train, grid_search_dt_result, grid_search_rf_result)\n",
    "\n",
    "    decision_tree_results.append(statistics(decision_tree_pred, y_test))\n",
    "    random_forrest_results.append(statistics(random_forrest_pred, y_test))\n",
    "    voting_results.append(statistics(voting_pred, y_test))\n",
    "    stacking_results.append(statistics(stacking_pred, y_test))\n",
    "        \n",
    "    return linear_results, polynomial_results, decision_tree_results, random_forrest_results, voting_results, stacking_results"
   ]
  },
  {
   "cell_type": "code",
   "execution_count": 21,
   "metadata": {},
   "outputs": [],
   "source": [
    "# podzial danych na traningowe i testowe w stosunku 1/k (k = 4 -> 25% danych testowych)\n",
    "def prepare_result_with_k_fold(k, grid_search_optimalization=False):\n",
    "    seed(1)\n",
    "    folds = cross_validation_split(data, k)\n",
    "\n",
    "    linear_results = list()\n",
    "    polynomial_results = list()\n",
    "    decision_tree_results = list()\n",
    "    random_forrest_results = list()\n",
    "    voting_results = list()\n",
    "    stacking_results = list()\n",
    "    grid_search_dt_result = []\n",
    "    grid_search_rf_result = []\n",
    "    \n",
    "    if (grid_search_optimalization):\n",
    "        grid_search_dt_result = grid_search_on_decision_tree(x_train, y_train)\n",
    "        grid_search_rf_result = grid_search_on_random_forrest(x_train, y_train)\n",
    "\n",
    "    for i in range(k):\n",
    "        train = folds.copy()\n",
    "        test = pd.DataFrame(folds[i])\n",
    "        del train[i]\n",
    "        train = pd.DataFrame([item for sublist in train for item in sublist])\n",
    "        m, n = data.shape\n",
    "        X_train = (train.iloc[:,:n-1])\n",
    "        Y_train = (train.iloc[:,n-1:n])\n",
    "        X_test = (test.iloc[:,:n-1])\n",
    "        Y_test = (test.iloc[:,n-1:n])\n",
    "\n",
    "        linear_pred = linear_regression(X_train, X_test, Y_train)\n",
    "        polynomial_pred = polynomial_regression(X_train, X_test, Y_train)\n",
    "        linear_results.append(statistics(linear_pred, Y_test))\n",
    "        polynomial_results.append(statistics(polynomial_pred, Y_test))\n",
    "        \n",
    "        if (not grid_search_optimalization):\n",
    "            decision_tree_pred = decision_tree_regression(X_train, X_test, Y_train)\n",
    "            random_forrest_pred = random_forrest_regression(X_train, X_test, Y_train)\n",
    "            voting_pred = voting_regression(X_train, X_test, Y_train)\n",
    "            stacking_pred = stacking_regression(X_train, X_test, Y_train)\n",
    "        else:\n",
    "            decision_tree_pred = decision_tree_regression_optimalized(X_train, X_test, Y_train, grid_search_dt_result)\n",
    "            random_forrest_pred = random_forrest_regression_optimalized(X_train, X_test, Y_train, grid_search_rf_result)\n",
    "            voting_pred = voting_regression_optimalized(X_train, X_test, Y_train, grid_search_dt_result, grid_search_rf_result)\n",
    "            stacking_pred = stacking_regression_optimalized(X_train, X_test, Y_train, grid_search_dt_result, grid_search_rf_result)\n",
    "\n",
    "        decision_tree_results.append(statistics(decision_tree_pred, Y_test))\n",
    "        random_forrest_results.append(statistics(random_forrest_pred, Y_test))\n",
    "        voting_results.append(statistics(voting_pred, Y_test))\n",
    "        stacking_results.append(statistics(stacking_pred, Y_test))\n",
    "        \n",
    "    return linear_results, polynomial_results, decision_tree_results, random_forrest_results, voting_results, stacking_results"
   ]
  },
  {
   "cell_type": "code",
   "execution_count": 20,
   "metadata": {},
   "outputs": [],
   "source": [
    "from prettytable import PrettyTable\n",
    "\n",
    "def add_row(table, result, model):\n",
    "    avg_result = [sum(x) / len(x) for x in zip(*result)]\n",
    "    table.add_row([model, round(avg_result[0],5), round(avg_result[1],5), round(avg_result[2],5)])\n",
    "    \n",
    "def createSummaryTable(summary_table, results):\n",
    "    add_row(summary_table, results[0], \"Linear Regression\")\n",
    "    add_row(summary_table, results[1], \"Polynominal Regression\")\n",
    "    add_row(summary_table, results[2], \"Decision Tree Regression\")\n",
    "    add_row(summary_table, results[3], \"Random Forrest Regression\")\n",
    "    add_row(summary_table, results[4], \"Voting Regressor\")\n",
    "    add_row(summary_table, results[5], \"Stacking Regressor\")  \n",
    "\n",
    "def createSummary(k_fold = 0, grid_search_optimalization = False):\n",
    "    summary_table = PrettyTable(['model', 'MSE', 'r2', 'Experience Variance'])\n",
    "    if (k_fold < 2):\n",
    "        results = prepare_result(grid_search_optimalization)\n",
    "        createSummaryTable(summary_table, results)\n",
    "        print(\"Summary table for result of regression models:\\n\", summary_table, \"\\n\\n\")\n",
    "    else:\n",
    "        results = prepare_result_with_k_fold(k_fold, grid_search_optimalization)\n",
    "        createSummaryTable(summary_table, results)\n",
    "        print(\"Summary table for result of regression models [K_fold: k =\",k_fold,\"]:\\n\", summary_table, \"\\n\\n\")"
   ]
  },
  {
   "cell_type": "markdown",
   "metadata": {},
   "source": [
    "# Etap 3"
   ]
  },
  {
   "cell_type": "markdown",
   "metadata": {},
   "source": [
    "## Optymalizacja Cech"
   ]
  },
  {
   "cell_type": "code",
   "execution_count": 42,
   "metadata": {},
   "outputs": [
    {
     "data": {
      "image/png": "[encoded data removed]",
      "text/plain": [
       "<Figure size 432x288 with 1 Axes>"
      ]
     },
     "metadata": {
      "needs_background": "light"
     },
     "output_type": "display_data"
    }
   ],
   "source": [
    "from sklearn.ensemble import BaggingRegressor\n",
    "from sklearn.tree import ExtraTreeRegressor\n",
    "from sklearn.ensemble import ExtraTreesRegressor\n",
    "from random import seed\n",
    "from random import randrange\n",
    "\n",
    "extra_tree = ExtraTreeRegressor(random_state=0)\n",
    "extra_tree_model = ExtraTreesRegressor(n_estimators = 100,\n",
    "          criterion ='mse', max_features = \"auto\")\n",
    "extra_tree_model.fit(x_train, y_train)\n",
    "\n",
    "feature_importance = extra_tree_model.feature_importances_\n",
    "plt.bar(x_train.columns, feature_importance)\n",
    "plt.xticks(rotation=40)\n",
    "plt.xlabel('Feature Labels')\n",
    "plt.ylabel('Feature Importances')\n",
    "plt.title('Comparison of different Feature Importances')\n",
    "plt.show()"
   ]
  },
  {
   "cell_type": "code",
   "execution_count": 41,
   "metadata": {},
   "outputs": [
    {
     "data": {
      "image/png": "[encoded data removed]",
      "text/plain": [
       "<Figure size 640x480 with 2 Axes>"
      ]
     },
     "metadata": {
      "needs_background": "light"
     },
     "output_type": "display_data"
    },
    {
     "data": {
      "image/png": "[encoded data removed]",
      "text/plain": [
       "<Figure size 432x288 with 1 Axes>"
      ]
     },
     "metadata": {
      "needs_background": "light"
     },
     "output_type": "display_data"
    }
   ],
   "source": [
    "import seaborn as sns\n",
    "figure(figsize=(8, 6), dpi=80)\n",
    "\n",
    "corrMatrix = data.corr()\n",
    "sns.heatmap(corrMatrix, annot=True)\n",
    "plt.xlabel('Feature Labels')\n",
    "plt.ylabel('Feature Importances')\n",
    "plt.title('Comparison of different Feature Importances')\n",
    "plt.show()\n",
    "\n",
    "plt.bar(data.columns[:11], corrMatrix[\"cnt\"][:11])\n",
    "plt.xticks(rotation=40)\n",
    "plt.xlabel('Feature Labels')\n",
    "plt.ylabel('Feature Importances')\n",
    "plt.title('Comparison of different Feature Importances')\n",
    "plt.show()"
   ]
  },
  {
   "cell_type": "markdown",
   "metadata": {},
   "source": [
    "Na podstawie wyników z Extra Tree regressora zrezygnowaliśmy z 6 parametrów jaki są:\n",
    "- season\n",
    "- month\n",
    "- holiday\n",
    "- weathersit\n",
    "- hum\n",
    "- windspeed\n",
    "\n",
    "Dodatkowo na podstawie macierzy korelacji zdecydowaliśmy się odrzucić jedną z cech opisujących temperaturę, a więc:\n",
    "- temp"
   ]
  },
  {
   "cell_type": "code",
   "execution_count": 18,
   "metadata": {},
   "outputs": [
    {
     "name": "stdout",
     "output_type": "stream",
     "text": [
      "Ilosc wymairów zmiennych zależnych przed optymalizacją:  11\n",
      "Ilosc wymairów zmiennych zależnych po optymalizacji:  4\n"
     ]
    }
   ],
   "source": [
    "data = read_data()\n",
    "\n",
    "size_before_opt = np.shape(data)[1] - 1\n",
    "print(\"Ilosc wymairów zmiennych zależnych przed optymalizacją: \", size_before_opt)\n",
    "data.drop('season', inplace=True, axis=1)\n",
    "data.drop('mnth', inplace=True, axis=1)\n",
    "data.drop('holiday', inplace=True, axis=1)\n",
    "data.drop('weathersit', inplace=True, axis=1)\n",
    "data.drop('temp', inplace=True, axis=1)\n",
    "data.drop('hum', inplace=True, axis=1)\n",
    "data.drop('windspeed', inplace=True, axis=1)\n",
    "size_after_opt = np.shape(data)[1] - 1\n",
    "print(\"Ilosc wymairów zmiennych zależnych po optymalizacji: \",size_after_opt)\n",
    "\n",
    "x_train, x_test, y_train, y_test = splitOfData(data, 0.20)"
   ]
  },
  {
   "cell_type": "code",
   "execution_count": 251,
   "metadata": {},
   "outputs": [
    {
     "name": "stdout",
     "output_type": "stream",
     "text": [
      "Summary table for result of regression models:\n",
      " +---------------------------+--------------------+--------------------+---------------------+\n",
      "|           model           |        MSE         |         r2         | Experience Variance |\n",
      "+---------------------------+--------------------+--------------------+---------------------+\n",
      "|     Linear Regression     | 21867.761326676096 | 0.3343528459785504 |  0.3347091750508546 |\n",
      "|   Polynominal Regression  | 16882.76129072206  | 0.4860945371905242 |  0.4862972295217204 |\n",
      "|  Decision Tree Regression | 6548.333144683483  | 0.8006709851901681 |  0.8007192480173333 |\n",
      "| Random Forrest Regression | 4938.322646535097  | 0.849679152511337  |  0.849759701971445  |\n",
      "|      Voting Regressor     | 5330.180580392806  | 0.8377511314141377 |  0.8378398952641618 |\n",
      "|     Stacking Regressor    | 5085.8598129064085 | 0.8451881717730549 |  0.8453532576464577 |\n",
      "+---------------------------+--------------------+--------------------+---------------------+ \n",
      "\n",
      "\n",
      "Summary table for result of regression models [K_fold: k = 2 ]:\n",
      " +---------------------------+--------------------+--------------------+---------------------+\n",
      "|           model           |        MSE         |         r2         | Experience Variance |\n",
      "+---------------------------+--------------------+--------------------+---------------------+\n",
      "|     Linear Regression     | 21852.534427927887 | 0.3354442444594259 |  0.3361777196572146 |\n",
      "|   Polynominal Regression  | 16767.601273881326 | 0.4900851089168581 | 0.49028485189365023 |\n",
      "|  Decision Tree Regression | 6810.154959323578  | 0.7929440207524521 |  0.7930278995910091 |\n",
      "| Random Forrest Regression | 4760.248277735413  | 0.8552691794963276 |  0.8553413823081242 |\n",
      "|      Voting Regressor     | 5202.666394819316  | 0.8418108054584661 |  0.8418373906868811 |\n",
      "|     Stacking Regressor    | 5054.365029176177  | 0.8463069614289742 |  0.8463447328259901 |\n",
      "+---------------------------+--------------------+--------------------+---------------------+ \n",
      "\n",
      "\n",
      "Summary table for result of regression models [K_fold: k = 5 ]:\n",
      " +---------------------------+--------------------+---------------------+---------------------+\n",
      "|           model           |        MSE         |          r2         | Experience Variance |\n",
      "+---------------------------+--------------------+---------------------+---------------------+\n",
      "|     Linear Regression     | 21834.104125653124 |  0.3359354637996934 |  0.3362870396391586 |\n",
      "|   Polynominal Regression  | 16752.374936075925 | 0.49048554418255697 |  0.4906047109084241 |\n",
      "|  Decision Tree Regression | 6482.349172402729  |  0.8026443722921606 |  0.8027119191503221 |\n",
      "| Random Forrest Regression | 4924.441155273438  |  0.8501105076440231 |  0.8501613555002017 |\n",
      "|      Voting Regressor     | 5266.512596264095  |  0.8397075921382969 |  0.8397521862442302 |\n",
      "|     Stacking Regressor    | 5058.835115033748  |  0.8460271269213869 |  0.8460700042264975 |\n",
      "+---------------------------+--------------------+---------------------+---------------------+ \n",
      "\n",
      "\n",
      "Summary table for result of regression models [K_fold: k = 10 ]:\n",
      " +---------------------------+--------------------+---------------------+---------------------+\n",
      "|           model           |        MSE         |          r2         | Experience Variance |\n",
      "+---------------------------+--------------------+---------------------+---------------------+\n",
      "|     Linear Regression     | 21832.466782227293 | 0.33583221802669283 |  0.3362483998401554 |\n",
      "|   Polynominal Regression  | 16749.977315482396 |  0.4904812706666711 |  0.4906240663263284 |\n",
      "|  Decision Tree Regression | 6287.268965541969  |  0.8087236662690908 |  0.8087955746886106 |\n",
      "| Random Forrest Regression | 4881.265953269723  |  0.8514385514701914 |  0.8515128488996311 |\n",
      "|      Voting Regressor     | 5175.055418348937  |  0.842544850431907  |  0.8425944841986936 |\n",
      "|     Stacking Regressor    | 5139.543293309647  |  0.8436259443820863 |  0.8436787771375833 |\n",
      "+---------------------------+--------------------+---------------------+---------------------+ \n",
      "\n",
      "\n"
     ]
    }
   ],
   "source": [
    "createSummary()    \n",
    "createSummary(k_fold = 2)    \n",
    "createSummary(k_fold = 5)\n",
    "createSummary(k_fold = 10)"
   ]
  },
  {
   "cell_type": "markdown",
   "metadata": {},
   "source": [
    "Ostatecznie modele posiadają 4 zmienne niezależne którymi śa parametry:\n",
    "- weekday\n",
    "- hr\n",
    "- year\n",
    "- atemp\n",
    "\n",
    "W rezultacie dla używanych modeli regresji skuteczność r2 spadło od ok. 5% do 9%.\\\n",
    "Uznaliśmy że w ramach optymalizacji jest to dopuszczalny spadek przy takiej ilości wyeliminowanych cech."
   ]
  },
  {
   "cell_type": "markdown",
   "metadata": {},
   "source": [
    "## Optymalizacja hiper parametrów"
   ]
  },
  {
   "cell_type": "markdown",
   "metadata": {},
   "source": [
    "W ramach tej optymalizacji zostały pominięte modele regresji liniowej i logistycznej."
   ]
  },
  {
   "cell_type": "code",
   "execution_count": 40,
   "metadata": {},
   "outputs": [
    {
     "name": "stdout",
     "output_type": "stream",
     "text": [
      "Best Random Forrest Regression score: 0.9333002808704588, \n",
      "using {'max_depth': 24, 'n_estimators': 250, 'random_state': 5}\n",
      "\n",
      "\n",
      "Custom MSE test set is 2069.7662874926646\n",
      "Custom r2 test set is 0.936997024149959\n",
      "Custom EVS test set is 0.93699790938967\n"
     ]
    }
   ],
   "source": [
    "from sklearn.model_selection import GridSearchCV\n",
    "def grid_search_on_random_forrest(x_train, y_train, print_result=False):\n",
    "    param_grid = dict(\n",
    "        max_depth = [6, 12, 24], \n",
    "        random_state = [5, 50, 75], \n",
    "        n_estimators = [100, 150, 200, 250])\n",
    "    grid = GridSearchCV(estimator=RandomForestRegressor(), param_grid=param_grid, verbose=0, n_jobs=-1, refit=True)\n",
    "    grid_results = grid.fit(x_train, y_train)\n",
    "    if(print_result):\n",
    "        print(\"Best Random Forrest Regression score: {0}, \\nusing {1}\\n\\n\".format(grid_results.best_score_, grid_results.best_params_))\n",
    "    return grid_results\n",
    "\n",
    "def random_forrest_regression_optimalized(x_train, x_test, y_train, grid_results):   \n",
    "    rf_model =  RandomForestRegressor(max_depth = grid_results.best_params_[\"max_depth\"], \n",
    "                                      random_state = grid_results.best_params_[\"random_state\"], \n",
    "                                      n_estimators = grid_results.best_params_[\"n_estimators\"],\n",
    "                                      min_samples_split = 2,\n",
    "                                      min_samples_leaf = 2)\n",
    "    rf_model.fit(x_train, y_train)\n",
    "    rf_reg_pred = rf_model.predict(x_test)\n",
    "    return rf_reg_pred\n",
    "\n",
    "grid_search_rf_result = grid_search_on_random_forrest(x_train, y_train, True)\n",
    "random_forrest_optimalized = random_forrest_regression_optimalized(x_train, x_test, y_train, grid_search_rf_result)\n",
    "a, b, c = statistics(random_forrest_optimalized, y_test, True, True)"
   ]
  },
  {
   "cell_type": "code",
   "execution_count": 44,
   "metadata": {},
   "outputs": [
    {
     "name": "stdout",
     "output_type": "stream",
     "text": [
      "Best Decision Tree Regression score: 0.8822328865034675, \n",
      "using {'max_depth': 12, 'min_samples_leaf': 3, 'min_samples_split': 2, 'random_state': 75, 'splitter': 'best'}\n",
      "\n",
      "\n",
      "Custom MSE test set is 3335.727975156618\n",
      "Custom r2 test set is 0.8984615846092994\n",
      "Custom EVS test set is 0.8984666819534011\n"
     ]
    }
   ],
   "source": [
    "def grid_search_on_decision_tree(x_train, y_train, print_result=False):\n",
    "    param_grid = dict(\n",
    "        max_depth = [None, 6, 12, 24], \n",
    "        random_state = [None, 50, 75], \n",
    "        splitter = [\"best\", \"random\"], \n",
    "        min_samples_leaf = [1,2,3],\n",
    "        min_samples_split = [2,3,4])\n",
    "    grid = GridSearchCV(estimator=DecisionTreeRegressor(), param_grid=param_grid, verbose=0, n_jobs=-1, refit=True)\n",
    "    grid_results = grid.fit(x_train, y_train)\n",
    "    if(print_result):\n",
    "        print(\"Best Decision Tree Regression score: {0}, \\nusing {1}\\n\\n\".format(grid_results.best_score_, grid_results.best_params_))\n",
    "    return grid_results\n",
    "\n",
    "def decision_tree_regression_optimalized(x_train, x_test, y_train, grid_results):\n",
    "    dc_model =  DecisionTreeRegressor(max_depth = grid_results.best_params_[\"max_depth\"], \n",
    "                                      random_state = grid_results.best_params_[\"random_state\"], \n",
    "                                      splitter = grid_results.best_params_[\"splitter\"], \n",
    "                                      min_samples_leaf = grid_results.best_params_[\"min_samples_leaf\"], \n",
    "                                      min_samples_split = grid_results.best_params_[\"min_samples_split\"])\n",
    "    dc_model.fit(x_train, y_train)\n",
    "    dc_reg_pred = dc_model.predict(x_test)\n",
    "    return dc_reg_pred\n",
    "\n",
    "grid_search_dt_result = grid_search_on_decision_tree(x_train, y_train, True)\n",
    "decision_tree_optimalized = decision_tree_regression_optimalized(x_train, x_test, y_train, grid_search_dt_result)\n",
    "a, b, c = statistics(decision_tree_optimalized, y_test, True, True)"
   ]
  },
  {
   "cell_type": "code",
   "execution_count": 42,
   "metadata": {},
   "outputs": [
    {
     "name": "stdout",
     "output_type": "stream",
     "text": [
      "Custom MSE test set is 2501.293552031716\n",
      "Custom r2 test set is 0.9238614822336186\n",
      "Custom EVS test set is 0.923866964526679\n"
     ]
    }
   ],
   "source": [
    "def voting_regression_optimalized(x_train, x_test, y_train, grid_search_dt_result, grid_search_rf_result):\n",
    "    lr_model = linear_model.LinearRegression()\n",
    "    dc_model =  DecisionTreeRegressor(max_depth = grid_search_dt_result.best_params_[\"max_depth\"], \n",
    "                                      splitter = grid_search_dt_result.best_params_[\"splitter\"], \n",
    "                                      random_state = grid_search_dt_result.best_params_[\"random_state\"], \n",
    "                                      min_samples_leaf = grid_search_dt_result.best_params_[\"min_samples_leaf\"], \n",
    "                                      min_samples_split = grid_search_dt_result.best_params_[\"min_samples_split\"]) \n",
    "    rf_model =  RandomForestRegressor(max_depth = grid_search_rf_result.best_params_[\"max_depth\"], \n",
    "                                      random_state = grid_search_rf_result.best_params_[\"random_state\"], \n",
    "                                      n_estimators = grid_search_rf_result.best_params_[\"n_estimators\"],\n",
    "                                      min_samples_split = 2,\n",
    "                                      min_samples_leaf = 2)\n",
    "    voting_model =  VotingRegressor([('lr', lr_model), ('dc', dc_model), ('rf', rf_model)],\n",
    "                                     weights=[1,4,5],n_jobs=-1)\n",
    "    voting_model.fit(x_train, y_train)\n",
    "    voiting_reg_pred = voting_model.predict(x_test)\n",
    "    return voiting_reg_pred\n",
    "\n",
    "voting_regressor_opt = voting_regression_optimalized(x_train, x_test, y_train, grid_search_dt_result, grid_search_rf_result)\n",
    "a, b, c = statistics(voting_regressor_opt, y_test, True, True)"
   ]
  },
  {
   "cell_type": "code",
   "execution_count": 46,
   "metadata": {},
   "outputs": [
    {
     "name": "stdout",
     "output_type": "stream",
     "text": [
      "Custom MSE test set is 2302.7234793663156\n",
      "Custom r2 test set is 0.929905887134925\n",
      "Custom EVS test set is 0.9299226821003312\n"
     ]
    }
   ],
   "source": [
    "def stacking_regression_optimalized(x_train, x_test, y_train, grid_search_dt_result, grid_search_rf_result):\n",
    "    lr_model = linear_model.LinearRegression()\n",
    "    dc_model =  DecisionTreeRegressor(max_depth = grid_search_dt_result.best_params_[\"max_depth\"], \n",
    "                                      splitter = grid_search_dt_result.best_params_[\"splitter\"], \n",
    "                                      random_state = grid_search_dt_result.best_params_[\"random_state\"], \n",
    "                                      min_samples_leaf = grid_search_dt_result.best_params_[\"min_samples_leaf\"], \n",
    "                                      min_samples_split = grid_search_dt_result.best_params_[\"min_samples_split\"]) \n",
    "    rf_model =  RandomForestRegressor(max_depth = grid_search_rf_result.best_params_[\"max_depth\"], \n",
    "                                      random_state = grid_search_rf_result.best_params_[\"random_state\"], \n",
    "                                      n_estimators = grid_search_rf_result.best_params_[\"n_estimators\"],\n",
    "                                      min_samples_split = 2,\n",
    "                                      min_samples_leaf = 2)\n",
    "    estimators = [('lr', lr_model), ('dc', dc_model), ('rf', rf_model)]\n",
    "    stacking_model = StackingRegressor(estimators=estimators, final_estimator=rf_model)\n",
    "    stacking_model.fit(x_train, y_train)\n",
    "    stacking_reg_pred = stacking_model.predict(x_test)\n",
    "    return stacking_reg_pred\n",
    "\n",
    "stacking_regressor_opt = stacking_regression_optimalized(x_train, x_test, y_train, grid_search_dt_result, grid_search_rf_result)\n",
    "a, b, c = statistics(stacking_regressor_opt, y_test, True, True)"
   ]
  },
  {
   "cell_type": "code",
   "execution_count": 236,
   "metadata": {},
   "outputs": [
    {
     "name": "stdout",
     "output_type": "stream",
     "text": [
      "Summary table for result of regression models:\n",
      " +---------------------------+--------------------+--------------------+---------------------+\n",
      "|           model           |        MSE         |         r2         | Experience Variance |\n",
      "+---------------------------+--------------------+--------------------+---------------------+\n",
      "|     Linear Regression     | 21867.761326676096 | 0.3343528459785504 |  0.3347091750508546 |\n",
      "|   Polynominal Regression  | 16882.76129072206  | 0.4860945371905242 |  0.4862972295217204 |\n",
      "|  Decision Tree Regression | 4572.403653294725  | 0.8608176011533439 |  0.8608542174081296 |\n",
      "| Random Forrest Regression |  4425.77062718543  | 0.8652810601721754 |  0.8653671637414859 |\n",
      "|      Voting Regressor     | 4400.150993919807  | 0.8660609130211057 |  0.8661409747711207 |\n",
      "|     Stacking Regressor    | 4748.354352767109  | 0.8554617222134635 |  0.855696766384507  |\n",
      "+---------------------------+--------------------+--------------------+---------------------+ \n",
      "\n",
      "\n",
      "Summary table for result of regression models [K_fold: k = 2 ]:\n",
      " +---------------------------+--------------------+--------------------+---------------------+\n",
      "|           model           |        MSE         |         r2         | Experience Variance |\n",
      "+---------------------------+--------------------+--------------------+---------------------+\n",
      "|     Linear Regression     | 21852.534427927887 | 0.3354442444594259 |  0.3361777196572146 |\n",
      "|   Polynominal Regression  | 16767.601273881326 | 0.4900851089168581 | 0.49028485189365023 |\n",
      "|  Decision Tree Regression | 4693.456402843128  | 0.8572972649884676 |  0.8573437556537823 |\n",
      "| Random Forrest Regression | 4242.832770485991  | 0.8710029612701828 |  0.8710571991151771 |\n",
      "|      Voting Regressor     | 4357.888068944316  | 0.8674972046026106 |  0.8675176282943734 |\n",
      "|     Stacking Regressor    | 4738.486799124657  | 0.8559231156011038 |  0.8559801279057241 |\n",
      "+---------------------------+--------------------+--------------------+---------------------+ \n",
      "\n",
      "\n",
      "Summary table for result of regression models [K_fold: k = 3 ]:\n",
      " +---------------------------+--------------------+---------------------+---------------------+\n",
      "|           model           |        MSE         |          r2         | Experience Variance |\n",
      "+---------------------------+--------------------+---------------------+---------------------+\n",
      "|     Linear Regression     | 21848.93828694247  | 0.33575372997527214 | 0.33590381177728473 |\n",
      "|   Polynominal Regression  | 16757.044923113237 | 0.49058255448932603 |  0.4906468092867815 |\n",
      "|  Decision Tree Regression | 4464.022847981625  |  0.8642639672033822 |  0.8642885256812245 |\n",
      "| Random Forrest Regression | 4286.108368286621  |  0.8696652034122421 |  0.8697023744397013 |\n",
      "|      Voting Regressor     | 4312.105734402576  |  0.8688807007978531 |  0.8689007898189024 |\n",
      "|     Stacking Regressor    | 4620.908270026574  |  0.8594832934378384 |  0.8595006552833117 |\n",
      "+---------------------------+--------------------+---------------------+---------------------+ \n",
      "\n",
      "\n",
      "Summary table for result of regression models [K_fold: k = 5 ]:\n",
      " +---------------------------+--------------------+---------------------+---------------------+\n",
      "|           model           |        MSE         |          r2         | Experience Variance |\n",
      "+---------------------------+--------------------+---------------------+---------------------+\n",
      "|     Linear Regression     | 21834.104125653124 |  0.3359354637996934 |  0.3362870396391586 |\n",
      "|   Polynominal Regression  | 16752.374936075925 | 0.49048554418255697 |  0.4906047109084241 |\n",
      "|  Decision Tree Regression | 4466.541357030719  |  0.8640096276721249 |  0.8640455255990214 |\n",
      "| Random Forrest Regression | 4366.0926999322965 |  0.8670612176324903 |  0.8671159311824607 |\n",
      "|      Voting Regressor     | 4349.497507430971  |  0.867607863714386  |  0.8676420082390248 |\n",
      "|     Stacking Regressor    | 4623.217212527495  |  0.8592378491329725 |  0.8592781010079733 |\n",
      "+---------------------------+--------------------+---------------------+---------------------+ \n",
      "\n",
      "\n",
      "Summary table for result of regression models [K_fold: k = 10 ]:\n",
      " +---------------------------+--------------------+---------------------+---------------------+\n",
      "|           model           |        MSE         |          r2         | Experience Variance |\n",
      "+---------------------------+--------------------+---------------------+---------------------+\n",
      "|     Linear Regression     | 21832.466782227293 | 0.33583221802669283 |  0.3362483998401554 |\n",
      "|   Polynominal Regression  | 16749.977315482396 |  0.4904812706666711 |  0.4906240663263284 |\n",
      "|  Decision Tree Regression |  4373.33613305712  |  0.8668423413462938 |  0.8668839357658529 |\n",
      "| Random Forrest Regression | 4341.3259500878485 |  0.8678471567067432 |  0.8679150006770552 |\n",
      "|      Voting Regressor     | 4300.802262480799  |  0.8691087432907812 |  0.8691508361822808 |\n",
      "|     Stacking Regressor    | 4512.862908488292  |  0.8626492511755426 |  0.862704706056553  |\n",
      "+---------------------------+--------------------+---------------------+---------------------+ \n",
      "\n",
      "\n"
     ]
    }
   ],
   "source": [
    "createSummary(grid_search_optimalization = True)\n",
    "createSummary(k_fold = 2, grid_search_optimalization = True)\n",
    "createSummary(k_fold = 3, grid_search_optimalization = True)\n",
    "createSummary(k_fold = 5, grid_search_optimalization = True)\n",
    "createSummary(k_fold = 10, grid_search_optimalization = True)"
   ]
  },
  {
   "cell_type": "markdown",
   "metadata": {},
   "source": [
    "Wyniki optymalizacji hiperparametrów przyniosły pozytywny efekt, w ramach którego skuteczność r2 dla używanaych modeli wzrosła przecietnie o 2-3%, a dla Decision Tree Regressor nawet o 6%"
   ]
  },
  {
   "cell_type": "markdown",
   "metadata": {},
   "source": [
    "## Porównanie wykonanych operacja dla modelów regresji"
   ]
  },
  {
   "cell_type": "code",
   "execution_count": 103,
   "metadata": {},
   "outputs": [],
   "source": [
    "def k_fold_alg(data, method, k, out, optimalization=False, grid_search_dt=[], grid_search_rf=[]):\n",
    "    seed(1)\n",
    "    folds = cross_validation_split(data, k)\n",
    "    for i in range(k):\n",
    "        train = folds.copy()\n",
    "        test = pd.DataFrame(folds[i])\n",
    "        del train[i]\n",
    "        train = pd.DataFrame([item for sublist in train for item in sublist])\n",
    "        n = np.shape(data)[1]\n",
    "        X_train = (train.iloc[:,:n-1])\n",
    "        Y_train = (train.iloc[:,n-1:n])\n",
    "        X_test = (test.iloc[:,:n-1])\n",
    "        Y_test = (test.iloc[:,n-1:n])\n",
    "        calc_regression(method, out, X_train, X_test, Y_train, Y_test, optimalization, grid_search_dt, grid_search_rf)\n",
    "\n",
    "def calc_regression(method, out, x_train, x_test, y_train, y_test, optimalization=False, grid_search_dt=[], grid_search_rf=[]):\n",
    "    if(method == \"linear\"):    \n",
    "        out.append(statistics(linear_regression(x_train, x_test, y_train), y_test))\n",
    "    if(method == \"polynominal\"):    \n",
    "        out.append(statistics(polynomial_regression(x_train, x_test, y_train), y_test))\n",
    "    if (not optimalization):\n",
    "        if(method == \"decision_tree\"):    \n",
    "            out.append(statistics(decision_tree_regression(x_train, x_test, y_train), y_test))\n",
    "        if(method == \"random_forest\"):    \n",
    "            out.append(statistics(random_forrest_regression(x_train, x_test, y_train), y_test))\n",
    "        if(method == \"stacking\"):    \n",
    "            out.append(statistics(stacking_regression(x_train, x_test, y_train), y_test))\n",
    "        if(method == \"voting\"):    \n",
    "            out.append(statistics(voting_regression(x_train, x_test, y_train), y_test))\n",
    "    else:\n",
    "        if(method == \"decision_tree\"):    \n",
    "            out.append(statistics(decision_tree_regression_optimalized(x_train, x_test, y_train, grid_search_dt), y_test))\n",
    "        if(method == \"random_forest\"): \n",
    "            out.append(statistics(random_forrest_regression_optimalized(x_train, x_test, y_train, grid_search_rf), y_test))\n",
    "        if(method == \"stacking\"):    \n",
    "            out.append(statistics(stacking_regression_optimalized(x_train, x_test, y_train, grid_search_dt, grid_search_rf), y_test))\n",
    "        if(method == \"voting\"):    \n",
    "            out.append(statistics(voting_regression_optimalized(x_train, x_test, y_train, grid_search_dt, grid_search_rf), y_test))\n",
    "                \n",
    "def prepare_result_with_method(data, method):\n",
    "    x_train, x_test, y_train, y_test = splitOfData(data, 0.20)\n",
    "    std, std_kfold_2, std_kfold_5, std_kfold_10 = list(), list(), list(), list()\n",
    "    reduce, reduce_kfold_2, reduce_kfold_5, reduce_kfold_10 = list(), list(), list(), list()\n",
    "    reduce_opt, reduce_opt_kfold_2, reduce_opt_kfold_5, reduce_opt_kfold_10 = list(), list(), list(), list()\n",
    "      \n",
    "    calc_regression(method, std, x_train, x_test, y_train, y_test, optimalization=False)\n",
    "    k_fold_alg(data.copy(),method,2,std_kfold_2)\n",
    "    k_fold_alg(data.copy(),method,5,std_kfold_5)\n",
    "    k_fold_alg(data.copy(),method,10,std_kfold_10)\n",
    "    \n",
    "    data.drop('season', inplace=True, axis=1)\n",
    "    data.drop('mnth', inplace=True, axis=1)\n",
    "    data.drop('holiday', inplace=True, axis=1)\n",
    "    data.drop('weathersit', inplace=True, axis=1)\n",
    "    data.drop('temp', inplace=True, axis=1)\n",
    "    data.drop('hum', inplace=True, axis=1)\n",
    "    data.drop('windspeed', inplace=True, axis=1)\n",
    "    x_train, x_test, y_train, y_test = splitOfData(data, 0.20)\n",
    "    \n",
    "    calc_regression(method, reduce, x_train, x_test, y_train, y_test, optimalization=False)\n",
    "    k_fold_alg(data.copy(),method,2,reduce_kfold_2)\n",
    "    k_fold_alg(data.copy(),method,5,reduce_kfold_5)\n",
    "    k_fold_alg(data.copy(),method,10,reduce_kfold_10)\n",
    "    \n",
    "    if(not method == \"linear\" and not method == \"polynominal\"):\n",
    "        grid_search_dt = []\n",
    "        grid_search_rf = []\n",
    "        if(method == \"decision_tree\"):    \n",
    "            grid_search_dt = grid_search_on_decision_tree(x_train, y_train)\n",
    "        elif(method == \"random_forest\"): \n",
    "            grid_search_rf = grid_search_on_random_forrest(x_train, y_train)\n",
    "        else: \n",
    "            grid_search_rf = grid_search_on_random_forrest(x_train, y_train)\n",
    "            grid_search_dt = grid_search_on_decision_tree(x_train, y_train)\n",
    "        calc_regression(method, reduce_opt, x_train, x_test, y_train, y_test, True, grid_search_dt, grid_search_rf)\n",
    "        k_fold_alg(data.copy(),method,2,reduce_opt_kfold_2, True, grid_search_dt, grid_search_rf)\n",
    "        k_fold_alg(data.copy(),method,5,reduce_opt_kfold_5, True, grid_search_dt, grid_search_rf)\n",
    "        k_fold_alg(data.copy(),method,10,reduce_opt_kfold_10, True, grid_search_dt, grid_search_rf)\n",
    "\n",
    "    return std, std_kfold_2, std_kfold_5, std_kfold_10, reduce, reduce_kfold_2, reduce_kfold_5, reduce_kfold_10, reduce_opt, reduce_opt_kfold_2, reduce_opt_kfold_5, reduce_opt_kfold_10\n",
    "\n",
    "def compareResultsOfRegression(method):\n",
    "    data = read_data()\n",
    "    results = prepare_result_with_method(data.copy(), method)\n",
    "    summary_table = PrettyTable(['model', 'MSE', 'r2', 'Experience Variance'])\n",
    "    summary_table.add_row([\"standard\", round(results[0][0][0],5), round(results[0][0][1],5), round(results[0][0][2],5)])\n",
    "    add_row(summary_table, results[1], \"std & k_fold k=2\")\n",
    "    add_row(summary_table, results[2], \"std & k_fold k=5\")\n",
    "    add_row(summary_table, results[3], \"std & k_fold k=10\")\n",
    "    summary_table.add_row([\"reduce\", round(results[4][0][0],5), round(results[4][0][1],5), round(results[4][0][2],5)])\n",
    "    add_row(summary_table, results[5], \"reduce & k_fold k=2\")\n",
    "    add_row(summary_table, results[6], \"reduce & k_fold k=5\")\n",
    "    add_row(summary_table, results[7], \"reduce & k_fold k=10\")\n",
    "    if(not method == \"linear\" and not method == \"polynominal\"):\n",
    "        summary_table.add_row([\"reduce & optiamalized\", round(results[8][0][0],5), round(results[8][0][1],5), round(results[8][0][2],5)])\n",
    "        add_row(summary_table, results[9], \"reduce & opt & k_fold k=2\")\n",
    "        add_row(summary_table, results[10], \"reduce & opt & k_fold k=5\")\n",
    "        add_row(summary_table, results[11], \"reduce & opt & k_fold k=10\")\n",
    "    print(method,\"regression statistics:\\n\",summary_table,\"\\n\\n\")"
   ]
  },
  {
   "cell_type": "code",
   "execution_count": 104,
   "metadata": {},
   "outputs": [
    {
     "name": "stdout",
     "output_type": "stream",
     "text": [
      "linear regression statistics:\n",
      " +----------------------+-------------+---------+---------------------+\n",
      "|        model         |     MSE     |    r2   | Experience Variance |\n",
      "+----------------------+-------------+---------+---------------------+\n",
      "|       standard       | 20177.21457 | 0.38581 |       0.38618       |\n",
      "|   std & k_fold k=2   | 20278.57931 |  0.3833 |       0.38374       |\n",
      "|   std & k_fold k=5   | 20243.75997 | 0.38431 |       0.38456       |\n",
      "|  std & k_fold k=10   | 20248.82775 | 0.38391 |       0.38423       |\n",
      "|        reduce        | 21867.76133 | 0.33435 |       0.33471       |\n",
      "| reduce & k_fold k=2  | 21852.53442 | 0.33544 |       0.33618       |\n",
      "| reduce & k_fold k=5  | 21834.10413 | 0.33594 |       0.33629       |\n",
      "| reduce & k_fold k=10 | 21832.46678 | 0.33583 |       0.33625       |\n",
      "+----------------------+-------------+---------+---------------------+ \n",
      "\n",
      "\n",
      "polynominal regression statistics:\n",
      " +----------------------+-------------+---------+---------------------+\n",
      "|        model         |     MSE     |    r2   | Experience Variance |\n",
      "+----------------------+-------------+---------+---------------------+\n",
      "|       standard       | 15331.44125 | 0.53332 |       0.53344       |\n",
      "|   std & k_fold k=2   | 15333.15016 |  0.5337 |       0.53386       |\n",
      "|   std & k_fold k=5   | 15278.22267 | 0.53528 |       0.53542       |\n",
      "|  std & k_fold k=10   | 15273.31326 |  0.5353 |       0.53546       |\n",
      "|        reduce        | 16882.76129 | 0.48609 |        0.4863       |\n",
      "| reduce & k_fold k=2  | 16767.60127 | 0.49008 |       0.49028       |\n",
      "| reduce & k_fold k=5  | 16752.37494 | 0.49048 |       0.49061       |\n",
      "| reduce & k_fold k=10 | 16749.97732 | 0.49048 |       0.49062       |\n",
      "+----------------------+-------------+---------+---------------------+ \n",
      "\n",
      "\n",
      "decision_tree regression statistics:\n",
      " +-----------------------------+------------+---------+---------------------+\n",
      "|            model            |    MSE     |    r2   | Experience Variance |\n",
      "+-----------------------------+------------+---------+---------------------+\n",
      "|           standard          | 3612.6793  | 0.89003 |       0.89003       |\n",
      "|       std & k_fold k=2      | 4363.24963 | 0.86733 |       0.86743       |\n",
      "|       std & k_fold k=5      | 3732.32085 | 0.88646 |       0.88649       |\n",
      "|      std & k_fold k=10      | 3491.96919 | 0.89358 |        0.8937       |\n",
      "|            reduce           | 6518.88832 | 0.80157 |       0.80162       |\n",
      "|     reduce & k_fold k=2     | 6805.58552 | 0.79308 |       0.79315       |\n",
      "|     reduce & k_fold k=5     | 6500.2194  | 0.80212 |       0.80219       |\n",
      "|     reduce & k_fold k=10    | 6267.52543 | 0.80928 |       0.80935       |\n",
      "|    reduce & optiamalized    | 4572.40365 | 0.86082 |       0.86085       |\n",
      "|  reduce & opt  & k_fold k=2 | 4693.4564  |  0.8573 |       0.85734       |\n",
      "|  reduce & opt & k_fold k=5  | 4466.82233 |  0.864  |       0.86404       |\n",
      "| reduce & opt  & k_fold k=10 | 4373.26114 | 0.86684 |       0.86689       |\n",
      "+-----------------------------+------------+---------+---------------------+ \n",
      "\n",
      "\n",
      "random_forest regression statistics:\n",
      " +-----------------------------+------------+---------+---------------------+\n",
      "|            model            |    MSE     |    r2   | Experience Variance |\n",
      "+-----------------------------+------------+---------+---------------------+\n",
      "|           standard          | 1946.41234 | 0.94075 |       0.94075       |\n",
      "|       std & k_fold k=2      | 2364.07682 | 0.92812 |       0.92828       |\n",
      "|       std & k_fold k=5      | 2003.74212 | 0.93897 |       0.93905       |\n",
      "|      std & k_fold k=10      | 1940.9042  | 0.94091 |       0.94102       |\n",
      "|            reduce           | 4932.40622 | 0.84986 |       0.84992       |\n",
      "|     reduce & k_fold k=2     | 4743.57245 | 0.85578 |       0.85584       |\n",
      "|     reduce & k_fold k=5     | 4934.54551 | 0.84979 |       0.84985       |\n",
      "|     reduce & k_fold k=10    | 4884.07764 | 0.85136 |       0.85143       |\n",
      "|    reduce & optiamalized    | 4122.7762  |  0.8745 |       0.87456       |\n",
      "|  reduce & opt  & k_fold k=2 | 4097.08766 | 0.87544 |       0.87547       |\n",
      "|  reduce & opt & k_fold k=5  | 4070.1574  | 0.87606 |        0.8761       |\n",
      "| reduce & opt  & k_fold k=10 | 4023.28224 | 0.87751 |       0.87756       |\n",
      "+-----------------------------+------------+---------+---------------------+ \n",
      "\n",
      "\n"
     ]
    }
   ],
   "source": [
    "compareResultsOfRegression(\"linear\")\n",
    "compareResultsOfRegression(\"polynominal\")\n",
    "compareResultsOfRegression(\"decision_tree\")\n",
    "compareResultsOfRegression(\"random_forest\")"
   ]
  },
  {
   "cell_type": "code",
   "execution_count": 105,
   "metadata": {},
   "outputs": [
    {
     "name": "stdout",
     "output_type": "stream",
     "text": [
      "stacking regression statistics:\n",
      " +-----------------------------+------------+---------+---------------------+\n",
      "|            model            |    MSE     |    r2   | Experience Variance |\n",
      "+-----------------------------+------------+---------+---------------------+\n",
      "|           standard          | 2317.14548 | 0.92947 |       0.92958       |\n",
      "|       std & k_fold k=2      | 2716.01133 | 0.91742 |       0.91743       |\n",
      "|       std & k_fold k=5      | 2310.94691 |  0.9296 |       0.92963       |\n",
      "|      std & k_fold k=10      | 2189.13279 | 0.93335 |       0.93339       |\n",
      "|            reduce           | 5139.91393 | 0.84354 |       0.84372       |\n",
      "|     reduce & k_fold k=2     | 5036.62883 | 0.84685 |       0.84688       |\n",
      "|     reduce & k_fold k=5     | 5135.61573 | 0.84372 |       0.84379       |\n",
      "|     reduce & k_fold k=10    | 5083.6991  |  0.8453 |       0.84535       |\n",
      "|    reduce & optiamalized    | 4424.84442 | 0.86531 |       0.86544       |\n",
      "|  reduce & opt  & k_fold k=2 | 4438.81142 | 0.86504 |       0.86506       |\n",
      "|  reduce & opt & k_fold k=5  | 4243.76371 | 0.87075 |       0.87081       |\n",
      "| reduce & opt  & k_fold k=10 | 4232.28648 | 0.87114 |       0.87119       |\n",
      "+-----------------------------+------------+---------+---------------------+ \n",
      "\n",
      "\n",
      "voting regression statistics:\n",
      " +-----------------------------+------------+---------+---------------------+\n",
      "|            model            |    MSE     |    r2   | Experience Variance |\n",
      "+-----------------------------+------------+---------+---------------------+\n",
      "|           standard          | 2302.3158  | 0.92992 |       0.92992       |\n",
      "|       std & k_fold k=2      | 2841.9502  | 0.91359 |       0.91368       |\n",
      "|       std & k_fold k=5      | 2460.38114 | 0.92509 |       0.92514       |\n",
      "|      std & k_fold k=10      | 2357.32098 | 0.92819 |       0.92826       |\n",
      "|            reduce           | 5299.25018 | 0.83869 |       0.83878       |\n",
      "|     reduce & k_fold k=2     | 5229.55062 |  0.841  |       0.84102       |\n",
      "|     reduce & k_fold k=5     | 5269.47426 | 0.83962 |       0.83966       |\n",
      "|     reduce & k_fold k=10    | 5171.83914 | 0.84262 |       0.84267       |\n",
      "|    reduce & optiamalized    | 4329.69908 | 0.86821 |       0.86827       |\n",
      "|  reduce & opt  & k_fold k=2 | 4342.85767 | 0.86795 |       0.86797       |\n",
      "|  reduce & opt & k_fold k=5  | 4285.54678 | 0.86955 |       0.86959       |\n",
      "| reduce & opt  & k_fold k=10 | 4232.20396 | 0.87119 |       0.87123       |\n",
      "+-----------------------------+------------+---------+---------------------+ \n",
      "\n",
      "\n"
     ]
    }
   ],
   "source": [
    "compareResultsOfRegression(\"stacking\")\n",
    "compareResultsOfRegression(\"voting\")"
   ]
  },
  {
   "cell_type": "markdown",
   "metadata": {},
   "source": [
    "## Wnioski"
   ]
  },
  {
   "cell_type": "markdown",
   "metadata": {},
   "source": [
    "*wskazane skuteczności są wynikiem miary skutecznośći r2\n",
    "\n",
    "Podsumowując: \n",
    "- dla zastoswanych modeli regresji najskuteczniejszy okazało się rozwiazanie Random Forrest (94%), nieco gorszy był Decision Tree (89%), natomiast zdecydowanie słabo poradziły sobie algorytmy regresji logistycznej (53%) i liniowej (38%),\n",
    "- użycie Stackig i Voiting Regressora dało rezultaty na poziomie 92%, z lekką przewagą na korzyść rozwiazania Voiting\n",
    "- zastosowanie k-krotnej walidacji krzyżowej wydłużyło znacznie czas działąnia modeli. Dla małych ustawień parametru k modele osiągały gorszą skuteczność niż przed jej zastosowaniem, co jednak poprawiało się wraz ze wzrostem paramtru k. Poprawa ta zatrzymywałą się na poziomie k równym ok. 10 i w wynniku czego przecietnie skuteczność dla modeli regresji była lepsza o ok. 0.5%,\n",
    "- opytmalizacja cech poprzez wyeliminowanie 7 parametrów spowodowało spadek skuteczność r2 na poziomie od 5% do 9%.\n",
    "- optymalizacji hiperparametrów przyniosły pozytywny efekt, w ramach którego skuteczność r2 dla używanaych modeli wzrosła przecietnie o 2-3%, a dla Decision Tree Regressor nawet o 6%,\n",
    "- w efekcie końcowym najlepszy model regresji (Random Forrest) dla optymalizacji cech i hiper-parametrów oraz zastosowaniu k-krotnej walidacji krzyzowej na poziomie k=10 osiągnął skuteczność 87.7%, co jest gorszym wynikem 0 6.3% od wyniku początkowego dla tego algorytmu (uznajemy to za dopuszczalny spadek przy takie optymalizacji cech)\n",
    "\n",
    "Wszystkie zadania wykonano według zaleceń:)"
   ]
  }
 ],
 "metadata": {
  "kernelspec": {
   "display_name": "Python 3",
   "language": "python",
   "name": "python3"
  },
  "language_info": {
   "codemirror_mode": {
    "name": "ipython",
    "version": 3
   },
   "file_extension": ".py",
   "mimetype": "text/x-python",
   "name": "python",
   "nbconvert_exporter": "python",
   "pygments_lexer": "ipython3",
   "version": "3.8.5"
  }
 },
 "nbformat": 4,
 "nbformat_minor": 4
}
