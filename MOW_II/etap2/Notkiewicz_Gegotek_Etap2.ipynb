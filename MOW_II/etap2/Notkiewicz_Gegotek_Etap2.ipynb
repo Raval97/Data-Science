{
 "cells": [
  {
   "cell_type": "markdown",
   "metadata": {},
   "source": [
    "## Pobranie danych"
   ]
  },
  {
   "cell_type": "code",
   "execution_count": 69,
   "metadata": {},
   "outputs": [
    {
     "data": {
      "text/html": [
       "<div>\n",
       "<style scoped>\n",
       "    .dataframe tbody tr th:only-of-type {\n",
       "        vertical-align: middle;\n",
       "    }\n",
       "\n",
       "    .dataframe tbody tr th {\n",
       "        vertical-align: top;\n",
       "    }\n",
       "\n",
       "    .dataframe thead th {\n",
       "        text-align: right;\n",
       "    }\n",
       "</style>\n",
       "<table border=\"1\" class=\"dataframe\">\n",
       "  <thead>\n",
       "    <tr style=\"text-align: right;\">\n",
       "      <th></th>\n",
       "      <th>yr</th>\n",
       "      <th>season</th>\n",
       "      <th>mnth</th>\n",
       "      <th>hr</th>\n",
       "      <th>holiday</th>\n",
       "      <th>weekday</th>\n",
       "      <th>weathersit</th>\n",
       "      <th>temp</th>\n",
       "      <th>atemp</th>\n",
       "      <th>hum</th>\n",
       "      <th>windspeed</th>\n",
       "      <th>casual</th>\n",
       "      <th>registered</th>\n",
       "      <th>cnt</th>\n",
       "    </tr>\n",
       "  </thead>\n",
       "  <tbody>\n",
       "    <tr>\n",
       "      <th>0</th>\n",
       "      <td>0</td>\n",
       "      <td>1</td>\n",
       "      <td>1</td>\n",
       "      <td>0</td>\n",
       "      <td>0</td>\n",
       "      <td>6</td>\n",
       "      <td>1</td>\n",
       "      <td>-1.334648</td>\n",
       "      <td>-1.093425</td>\n",
       "      <td>0.863767</td>\n",
       "      <td>-1.553833</td>\n",
       "      <td>3</td>\n",
       "      <td>13</td>\n",
       "      <td>16</td>\n",
       "    </tr>\n",
       "    <tr>\n",
       "      <th>1</th>\n",
       "      <td>0</td>\n",
       "      <td>1</td>\n",
       "      <td>1</td>\n",
       "      <td>1</td>\n",
       "      <td>0</td>\n",
       "      <td>6</td>\n",
       "      <td>1</td>\n",
       "      <td>-1.438516</td>\n",
       "      <td>-1.181597</td>\n",
       "      <td>0.966997</td>\n",
       "      <td>-1.553833</td>\n",
       "      <td>8</td>\n",
       "      <td>32</td>\n",
       "      <td>40</td>\n",
       "    </tr>\n",
       "    <tr>\n",
       "      <th>2</th>\n",
       "      <td>0</td>\n",
       "      <td>1</td>\n",
       "      <td>1</td>\n",
       "      <td>2</td>\n",
       "      <td>0</td>\n",
       "      <td>6</td>\n",
       "      <td>1</td>\n",
       "      <td>-1.438516</td>\n",
       "      <td>-1.181597</td>\n",
       "      <td>0.966997</td>\n",
       "      <td>-1.553833</td>\n",
       "      <td>5</td>\n",
       "      <td>27</td>\n",
       "      <td>32</td>\n",
       "    </tr>\n",
       "    <tr>\n",
       "      <th>3</th>\n",
       "      <td>0</td>\n",
       "      <td>1</td>\n",
       "      <td>1</td>\n",
       "      <td>3</td>\n",
       "      <td>0</td>\n",
       "      <td>6</td>\n",
       "      <td>1</td>\n",
       "      <td>-1.334648</td>\n",
       "      <td>-1.093425</td>\n",
       "      <td>0.708922</td>\n",
       "      <td>-1.553833</td>\n",
       "      <td>3</td>\n",
       "      <td>10</td>\n",
       "      <td>13</td>\n",
       "    </tr>\n",
       "    <tr>\n",
       "      <th>4</th>\n",
       "      <td>0</td>\n",
       "      <td>1</td>\n",
       "      <td>1</td>\n",
       "      <td>4</td>\n",
       "      <td>0</td>\n",
       "      <td>6</td>\n",
       "      <td>1</td>\n",
       "      <td>-1.334648</td>\n",
       "      <td>-1.093425</td>\n",
       "      <td>0.192772</td>\n",
       "      <td>-1.553833</td>\n",
       "      <td>0</td>\n",
       "      <td>1</td>\n",
       "      <td>1</td>\n",
       "    </tr>\n",
       "  </tbody>\n",
       "</table>\n",
       "</div>"
      ],
      "text/plain": [
       "   yr  season  mnth  hr  holiday  weekday  weathersit      temp     atemp  \\\n",
       "0   0       1     1   0        0        6           1 -1.334648 -1.093425   \n",
       "1   0       1     1   1        0        6           1 -1.438516 -1.181597   \n",
       "2   0       1     1   2        0        6           1 -1.438516 -1.181597   \n",
       "3   0       1     1   3        0        6           1 -1.334648 -1.093425   \n",
       "4   0       1     1   4        0        6           1 -1.334648 -1.093425   \n",
       "\n",
       "        hum  windspeed  casual  registered  cnt  \n",
       "0  0.863767  -1.553833       3          13   16  \n",
       "1  0.966997  -1.553833       8          32   40  \n",
       "2  0.966997  -1.553833       5          27   32  \n",
       "3  0.708922  -1.553833       3          10   13  \n",
       "4  0.192772  -1.553833       0           1    1  "
      ]
     },
     "execution_count": 69,
     "metadata": {},
     "output_type": "execute_result"
    }
   ],
   "source": [
    "aimport pandas as pd\n",
    "import numpy as np\n",
    "from sklearn import preprocessing\n",
    "from matplotlib.pyplot import figure\n",
    "from matplotlib import pyplot as plt\n",
    "import statistics\n",
    "\n",
    "df = pd.read_excel('./NewData.xlsx')\n",
    "data = df.loc[:, ~df.columns.str.contains('^Unnamed')]\n",
    "data.head()\n"
   ]
  },
  {
   "cell_type": "markdown",
   "metadata": {},
   "source": [
    "## Podział danych na treningowe i testowe"
   ]
  },
  {
   "cell_type": "code",
   "execution_count": 70,
   "metadata": {},
   "outputs": [
    {
     "name": "stdout",
     "output_type": "stream",
     "text": [
      "x_train.shape:  (13903, 11)\n",
      "x_test.shape:  (3476, 11)\n",
      "y_train.shape:  (13903, 1)\n",
      "y_test.shape:  (3476, 1)\n"
     ]
    }
   ],
   "source": [
    "from sklearn.utils import shuffle\n",
    "\n",
    "def train_test_split(X, Y, test_size):\n",
    "    train_pct_index = int((1 - test_size) * len(X))\n",
    "    X_train, X_test = X[:train_pct_index], X[train_pct_index:]\n",
    "    y_train, y_test = Y[:train_pct_index], Y[train_pct_index:]\n",
    "    return X_train, X_test, y_train, y_test\n",
    "\n",
    "\n",
    "def splitOfData(dataInput, testSize, random_state = 50):\n",
    "    shuffle_data =  shuffle(dataInput, random_state=random_state)\n",
    "    X = (shuffle_data.iloc[:,:11])\n",
    "    Y = (shuffle_data.iloc[:,13:14])\n",
    "    return train_test_split(X, Y, test_size=testSize)\n",
    "\n",
    "x_train, x_test, y_train, y_test = splitOfData(data, 0.20)\n",
    "print(\"x_train.shape: \", x_train.shape)\n",
    "print(\"x_test.shape: \", x_test.shape)\n",
    "print(\"y_train.shape: \", y_train.shape)\n",
    "print(\"y_test.shape: \", y_test.shape)"
   ]
  },
  {
   "cell_type": "markdown",
   "metadata": {},
   "source": [
    "## Miary Skuteczności"
   ]
  },
  {
   "cell_type": "code",
   "execution_count": 135,
   "metadata": {},
   "outputs": [],
   "source": [
    "from sklearn.metrics import mean_squared_error, r2_score\n",
    "\n",
    "def calculate_MSE(predykcja, Y):\n",
    "    m = len(Y)\n",
    "    suma = 0\n",
    "    for i in range(m):\n",
    "        suma += (predykcja[i] - Y[i])**2\n",
    "    return (suma / (2 * m))[0]\n"
   ]
  },
  {
   "cell_type": "markdown",
   "metadata": {},
   "source": [
    "## Regresja Liniowa"
   ]
  },
  {
   "cell_type": "code",
   "execution_count": 138,
   "metadata": {
    "scrolled": true
   },
   "outputs": [
    {
     "name": "stdout",
     "output_type": "stream",
     "text": [
      "coefficients:\n",
      " [ 8.09210187e+01  1.91502732e+01  7.72363695e-02  7.76115017e+00\n",
      " -2.28554576e+01  2.45336817e+00 -6.44376023e+00  1.96415552e+01\n",
      "  3.65873869e+01 -3.45561788e+01  6.26229020e+00]\n"
     ]
    },
    {
     "data": {
      "image/png": "[encoded data removed]",
      "text/plain": [
       "<Figure size 432x288 with 1 Axes>"
      ]
     },
     "metadata": {
      "needs_background": "light"
     },
     "output_type": "display_data"
    },
    {
     "name": "stdout",
     "output_type": "stream",
     "text": [
      "Mean squared error: 20177.21\n",
      "Mean squared error: 10088.61\n",
      "Variance score: 0.38581\n"
     ]
    },
    {
     "data": {
      "image/png": "[encoded data removed]",
      "text/plain": [
       "<Figure size 432x288 with 1 Axes>"
      ]
     },
     "metadata": {
      "needs_background": "light"
     },
     "output_type": "display_data"
    }
   ],
   "source": [
    "from sklearn import linear_model\n",
    "\n",
    "linear_reg = linear_model.LinearRegression()\n",
    "linear_reg.fit(x_train, y_train)\n",
    "\n",
    "linear_reg_y_pred = linear_reg.predict(x_test)\n",
    "linear_reg_coefficients = linear_reg.coef_[0]\n",
    "\n",
    "print(\"coefficients:\\n\", linear_reg_coefficients)\n",
    "index = ['yr', 'season', 'mnth', 'hr', 'holiday', 'weekday', 'weathersit', 'temp', 'atemp', 'hum', 'windspeed']\n",
    "coefficients_frame = pd.DataFrame({'parametr': index, 'Coefficients': linear_reg_coefficients})\n",
    "coefficients_frame.plot.bar(x='parametr', y='Coefficients', rot=90)\n",
    "plt.show()\n",
    "\n",
    "print(\"Mean squared error: %.2f\" % mean_squared_error(y_test, linear_reg_y_pred))\n",
    "print(\"Mean squared error: %.2f\" % calculate_MSE(linear_reg_y_pred, y_test.to_numpy()))\n",
    "print(\"Variance score: %.5f\" % linear_reg.score(x_test, y_test))\n",
    "plt.scatter(x_test[\"temp\"], y_test, color=\"black\")\n",
    "plt.scatter(x_test[\"temp\"], linear_reg_y_pred, color=\"blue\")\n",
    "plt.title(\"zaleznosc temperatury od predykcji dla regresji liniowej (wieloargumentowej)\")\n",
    "plt.show()\n",
    "    "
   ]
  },
  {
   "cell_type": "markdown",
   "metadata": {},
   "source": [
    "## Regresja wielomianowa"
   ]
  },
  {
   "cell_type": "code",
   "execution_count": 134,
   "metadata": {
    "scrolled": true
   },
   "outputs": [
    {
     "name": "stdout",
     "output_type": "stream",
     "text": [
      "Mean squared error: 7665.72\n",
      "Variance score: 0.53332\n"
     ]
    },
    {
     "data": {
      "image/png": "[encoded data removed]",
      "text/plain": [
       "<Figure size 432x288 with 1 Axes>"
      ]
     },
     "metadata": {
      "needs_background": "light"
     },
     "output_type": "display_data"
    }
   ],
   "source": [
    "from sklearn.preprocessing import PolynomialFeatures\n",
    "\n",
    "poly_reg = PolynomialFeatures(2)\n",
    "poly_x_train = poly_reg.fit_transform(x_train)\n",
    "poly_x_test = poly_reg.fit_transform(x_test)\n",
    "\n",
    "lin_reg_2 = linear_model.LinearRegression()\n",
    "lin_reg_2.fit(poly_x_train, y_train)\n",
    "lin_reg_2_pred = lin_reg_2.predict(poly_x_test)\n",
    "\n",
    "print(\"Mean squared error: %.2f\" % calculate_MSE(lin_reg_2_pred, y_test.to_numpy()))\n",
    "print(\"Variance score: %.5f\" % lin_reg_2.score(poly_x_test, y_test))\n",
    "plt.scatter(x_test[\"temp\"], y_test, color=\"black\")\n",
    "plt.scatter(x_test[\"temp\"], lin_reg_2_pred, color=\"blue\")\n",
    "plt.title(\"zaleznosc temperatury od predykcji dla regresji liniowej (wieloargumentowej)\")\n",
    "plt.show()\n",
    "\n",
    "# https://towardsdatascience.com/polynomial-regression-bbe8b9d97491"
   ]
  }
 ],
 "metadata": {
  "kernelspec": {
   "display_name": "Python 3",
   "language": "python",
   "name": "python3"
  },
  "language_info": {
   "codemirror_mode": {
    "name": "ipython",
    "version": 3
   },
   "file_extension": ".py",
   "mimetype": "text/x-python",
   "name": "python",
   "nbconvert_exporter": "python",
   "pygments_lexer": "ipython3",
   "version": "3.8.5"
  }
 },
 "nbformat": 4,
 "nbformat_minor": 4
}
