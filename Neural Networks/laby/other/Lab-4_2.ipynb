{
 "cells": [
  {
   "cell_type": "code",
   "execution_count": 1,
   "metadata": {
    "id": "y0eiYcAw_NSC"
   },
   "outputs": [],
   "source": [
    "import numpy as np\n",
    "import pandas as pd"
   ]
  },
  {
   "cell_type": "code",
   "execution_count": 2,
   "metadata": {},
   "outputs": [],
   "source": [
    "data = pd.read_csv('iris.data', header=None)\n",
    "data.columns = ['sepal length', 'sepal width',\n",
    "                'petal length', 'petal width', 'class']\n",
    "data = pd.concat((data, pd.get_dummies(data['class'])), axis=1)\n",
    "data = data.drop(['class'], axis=1).to_numpy()\n",
    "np.random.shuffle(data)\n",
    "\n",
    "X, y = data[:, :-3], data[:, -3:]"
   ]
  },
  {
   "cell_type": "code",
   "execution_count": 3,
   "metadata": {
    "id": "9BRFv3S-_NSG"
   },
   "outputs": [],
   "source": [
    "def sigmoid(x):\n",
    "    return 1.0 / (1.0+np.exp(-x))\n",
    "\n",
    "def sigmoid_dx(x):\n",
    "    return sigmoid(x) * (1.0-sigmoid(x))\n",
    "\n",
    "\n",
    "def softmax(x):\n",
    "    exp_ = np.exp(x)\n",
    "    return exp_ / np.sum(exp_, axis=0)\n",
    "\n",
    "\n",
    "def loss(x, y):\n",
    "    return -np.mean(np.sum(y*np.log(x), axis=1))\n",
    "\n",
    "def loss_dx(x, y):\n",
    "    return (x - y) / x.shape[0]\n",
    "\n",
    "def accuracy(x, y):\n",
    "    x = np.argmax(x, axis=1)\n",
    "    y = np.argmax(y, axis=1)\n",
    "    return np.mean(x == y)"
   ]
  },
  {
   "cell_type": "code",
   "execution_count": 4,
   "metadata": {},
   "outputs": [],
   "source": [
    "def feed_forward(X, W1, W2, b1, b2):\n",
    "    z1 = np.matmul(W1, X.T) + b1\n",
    "    a1 = sigmoid(z1)\n",
    "    z2 = np.matmul(W2, a1) + b2\n",
    "    a2 = softmax(z2)\n",
    "    return a2.T"
   ]
  },
  {
   "cell_type": "code",
   "execution_count": 5,
   "metadata": {},
   "outputs": [],
   "source": [
    "def train_one_batch(X, y, W1, W2, b1, b2, l_rate):\n",
    "    z1 = np.matmul(W1, X.T) + b1\n",
    "    a1 = sigmoid(z1)\n",
    "    z2 = np.matmul(W2, a1) + b2\n",
    "    a2 = softmax(z2)\n",
    "    \n",
    "    loss_prim = loss_dx(a2, y.T)\n",
    "    grad_W2 = np.matmul(loss_prim, a1.T)\n",
    "    grad_b2 = np.mean(loss_prim, axis=1, keepdims=True)\n",
    "    grad_W1 = np.matmul(np.matmul(W2.T, loss_prim) * sigmoid_dx(a1), X)\n",
    "    grad_b1 = np.mean(np.matmul(W2.T, loss_prim) * sigmoid_dx(a1), axis=1, keepdims=True)\n",
    "    \n",
    "    W2 -= grad_W2 * l_rate\n",
    "    b2 -= grad_b2 * l_rate\n",
    "    W1 -= grad_W1 * l_rate\n",
    "    b1 -= grad_b1 * l_rate\n",
    "\n",
    "def train_weights(X, y, W1, W2, b1, b2, l_rate, epochs, batch_size):\n",
    "    n_total = X.shape[0]\n",
    "    for epoch in range(1, epochs+1):\n",
    "        n_batches = n_total // batch_size + (1 if n_total % batch_size != 0 else 0)\n",
    "        for n_batch in range(n_batches):\n",
    "            batch_X = X[n_batch*batch_size : (n_batch+1)*batch_size, :]\n",
    "            batch_y = y[n_batch*batch_size : (n_batch+1)*batch_size, :]\n",
    "            train_one_batch(batch_X, batch_y, W1, W2, b1, b2, l_rate)\n",
    "        x = feed_forward(X, W1, W2, b1, b2)\n",
    "        print('Epoch: {}\\tLoss : {:.6f}      Accuracy: {:.6f}'.format(epoch, loss(x, y), accuracy(x, y)))"
   ]
  },
  {
   "cell_type": "code",
   "execution_count": 6,
   "metadata": {},
   "outputs": [],
   "source": [
    "weights1 = np.random.normal(scale=0.25, size=(4, 4))\n",
    "bias1 = np.zeros((4, 1))\n",
    "weights2 = np.random.normal(scale=0.25, size=(3, 4))\n",
    "bias2 = np.zeros((3, 1))"
   ]
  },
  {
   "cell_type": "code",
   "execution_count": 7,
   "metadata": {},
   "outputs": [],
   "source": [
    "epochs = 25"
   ]
  },
  {
   "cell_type": "markdown",
   "metadata": {},
   "source": [
    "# SGD"
   ]
  },
  {
   "cell_type": "code",
   "execution_count": 8,
   "metadata": {},
   "outputs": [
    {
     "name": "stdout",
     "output_type": "stream",
     "text": [
      "Epoch: 1\tLoss : 1.060888      Accuracy: 0.346667\n",
      "Epoch: 2\tLoss : 1.008934      Accuracy: 0.340000\n",
      "Epoch: 3\tLoss : 0.885054      Accuracy: 0.666667\n",
      "Epoch: 4\tLoss : 0.762443      Accuracy: 0.693333\n",
      "Epoch: 5\tLoss : 0.676891      Accuracy: 0.780000\n",
      "Epoch: 6\tLoss : 0.614071      Accuracy: 0.840000\n",
      "Epoch: 7\tLoss : 0.566628      Accuracy: 0.866667\n",
      "Epoch: 8\tLoss : 0.521688      Accuracy: 0.900000\n",
      "Epoch: 9\tLoss : 0.468493      Accuracy: 0.946667\n",
      "Epoch: 10\tLoss : 0.415622      Accuracy: 0.973333\n",
      "Epoch: 11\tLoss : 0.371909      Accuracy: 0.980000\n",
      "Epoch: 12\tLoss : 0.337156      Accuracy: 0.973333\n",
      "Epoch: 13\tLoss : 0.309590      Accuracy: 0.973333\n",
      "Epoch: 14\tLoss : 0.287464      Accuracy: 0.973333\n",
      "Epoch: 15\tLoss : 0.269403      Accuracy: 0.966667\n",
      "Epoch: 16\tLoss : 0.254419      Accuracy: 0.966667\n",
      "Epoch: 17\tLoss : 0.241812      Accuracy: 0.966667\n",
      "Epoch: 18\tLoss : 0.231079      Accuracy: 0.953333\n",
      "Epoch: 19\tLoss : 0.221834      Accuracy: 0.953333\n",
      "Epoch: 20\tLoss : 0.213774      Accuracy: 0.953333\n",
      "Epoch: 21\tLoss : 0.206654      Accuracy: 0.953333\n",
      "Epoch: 22\tLoss : 0.200266      Accuracy: 0.953333\n",
      "Epoch: 23\tLoss : 0.194429      Accuracy: 0.953333\n",
      "Epoch: 24\tLoss : 0.188985      Accuracy: 0.953333\n",
      "Epoch: 25\tLoss : 0.183815      Accuracy: 0.953333\n"
     ]
    }
   ],
   "source": [
    "# batch_size = 1\n",
    "w1 = weights1.copy()\n",
    "b1 = bias1.copy()\n",
    "w2 = weights2.copy()\n",
    "b2 = bias2.copy()\n",
    "\n",
    "train_weights(X, y, w1, w2, b1, b2, 0.1, epochs, 1)"
   ]
  },
  {
   "cell_type": "markdown",
   "metadata": {},
   "source": [
    "# Mini Batch GD"
   ]
  },
  {
   "cell_type": "code",
   "execution_count": 9,
   "metadata": {},
   "outputs": [
    {
     "name": "stdout",
     "output_type": "stream",
     "text": [
      "Epoch: 1\tLoss : 1.066805      Accuracy: 0.653333\n",
      "Epoch: 2\tLoss : 1.034968      Accuracy: 0.366667\n",
      "Epoch: 3\tLoss : 0.947700      Accuracy: 0.660000\n",
      "Epoch: 4\tLoss : 0.832087      Accuracy: 0.666667\n",
      "Epoch: 5\tLoss : 0.748179      Accuracy: 0.666667\n",
      "Epoch: 6\tLoss : 0.717248      Accuracy: 0.666667\n",
      "Epoch: 7\tLoss : 0.725696      Accuracy: 0.700000\n",
      "Epoch: 8\tLoss : 0.739806      Accuracy: 0.813333\n",
      "Epoch: 9\tLoss : 0.744066      Accuracy: 0.846667\n",
      "Epoch: 10\tLoss : 0.743552      Accuracy: 0.833333\n",
      "Epoch: 11\tLoss : 0.741977      Accuracy: 0.800000\n",
      "Epoch: 12\tLoss : 0.741020      Accuracy: 0.800000\n",
      "Epoch: 13\tLoss : 0.741540      Accuracy: 0.746667\n",
      "Epoch: 14\tLoss : 0.743602      Accuracy: 0.706667\n",
      "Epoch: 15\tLoss : 0.746496      Accuracy: 0.680000\n",
      "Epoch: 16\tLoss : 0.749625      Accuracy: 0.673333\n",
      "Epoch: 17\tLoss : 0.752742      Accuracy: 0.660000\n",
      "Epoch: 18\tLoss : 0.755329      Accuracy: 0.646667\n",
      "Epoch: 19\tLoss : 0.757146      Accuracy: 0.640000\n",
      "Epoch: 20\tLoss : 0.758224      Accuracy: 0.640000\n",
      "Epoch: 21\tLoss : 0.758706      Accuracy: 0.633333\n",
      "Epoch: 22\tLoss : 0.759006      Accuracy: 0.620000\n",
      "Epoch: 23\tLoss : 0.759434      Accuracy: 0.620000\n",
      "Epoch: 24\tLoss : 0.759897      Accuracy: 0.613333\n",
      "Epoch: 25\tLoss : 0.760470      Accuracy: 0.613333\n"
     ]
    }
   ],
   "source": [
    "# batch_size = 20\n",
    "w1 = weights1.copy()\n",
    "b1 = bias1.copy()\n",
    "w2 = weights2.copy()\n",
    "b2 = bias2.copy()\n",
    "\n",
    "train_weights(X, y, w1, w2, b1, b2, 0.1, epochs, 20)"
   ]
  },
  {
   "cell_type": "markdown",
   "metadata": {},
   "source": [
    "# GD"
   ]
  },
  {
   "cell_type": "code",
   "execution_count": 10,
   "metadata": {},
   "outputs": [
    {
     "name": "stdout",
     "output_type": "stream",
     "text": [
      "Epoch: 1\tLoss : 1.086683      Accuracy: 0.606667\n",
      "Epoch: 2\tLoss : 1.074101      Accuracy: 0.666667\n",
      "Epoch: 3\tLoss : 1.061889      Accuracy: 0.666667\n",
      "Epoch: 4\tLoss : 1.050040      Accuracy: 0.666667\n",
      "Epoch: 5\tLoss : 1.037307      Accuracy: 0.660000\n",
      "Epoch: 6\tLoss : 1.021131      Accuracy: 0.646667\n",
      "Epoch: 7\tLoss : 0.998468      Accuracy: 0.653333\n",
      "Epoch: 8\tLoss : 0.966900      Accuracy: 0.666667\n",
      "Epoch: 9\tLoss : 0.926633      Accuracy: 0.666667\n",
      "Epoch: 10\tLoss : 0.881709      Accuracy: 0.666667\n",
      "Epoch: 11\tLoss : 0.837531      Accuracy: 0.666667\n",
      "Epoch: 12\tLoss : 0.797348      Accuracy: 0.666667\n",
      "Epoch: 13\tLoss : 0.762650      Accuracy: 0.666667\n",
      "Epoch: 14\tLoss : 0.734412      Accuracy: 0.666667\n",
      "Epoch: 15\tLoss : 0.712524      Accuracy: 0.666667\n",
      "Epoch: 16\tLoss : 0.697139      Accuracy: 0.666667\n",
      "Epoch: 17\tLoss : 0.687185      Accuracy: 0.666667\n",
      "Epoch: 18\tLoss : 0.684105      Accuracy: 0.666667\n",
      "Epoch: 19\tLoss : 0.683602      Accuracy: 0.666667\n",
      "Epoch: 20\tLoss : 0.696389      Accuracy: 0.666667\n",
      "Epoch: 21\tLoss : 0.702499      Accuracy: 0.666667\n",
      "Epoch: 22\tLoss : 0.825358      Accuracy: 0.666667\n",
      "Epoch: 23\tLoss : 0.756552      Accuracy: 0.660000\n",
      "Epoch: 24\tLoss : 0.943204      Accuracy: 0.526667\n",
      "Epoch: 25\tLoss : 0.757516      Accuracy: 0.840000\n"
     ]
    }
   ],
   "source": [
    "# batch_size = 150, full batch\n",
    "w1 = weights1.copy()\n",
    "b1 = bias1.copy()\n",
    "w2 = weights2.copy()\n",
    "b2 = bias2.copy()\n",
    "\n",
    "train_weights(X, y, w1, w2, b1, b2, 0.03, epochs, 160)"
   ]
  }
 ],
 "metadata": {
  "colab": {
   "collapsed_sections": [],
   "name": "Lab2.ipynb",
   "provenance": []
  },
  "kernelspec": {
   "display_name": "Python 3",
   "language": "python",
   "name": "python3"
  },
  "language_info": {
   "codemirror_mode": {
    "name": "ipython",
    "version": 3
   },
   "file_extension": ".py",
   "mimetype": "text/x-python",
   "name": "python",
   "nbconvert_exporter": "python",
   "pygments_lexer": "ipython3",
   "version": "3.8.5"
  }
 },
 "nbformat": 4,
 "nbformat_minor": 4
}
