{
 "cells": [
  {
   "cell_type": "code",
   "execution_count": 3,
   "metadata": {},
   "outputs": [
    {
     "name": "stdout",
     "output_type": "stream",
     "text": [
      "/home/rgegotek/anaconda3/bin/python\n",
      "3.8.5 (default, Sep  4 2020, 07:30:14) \n",
      "[GCC 7.3.0]\n",
      "sys.version_info(major=3, minor=8, micro=5, releaselevel='final', serial=0)\n"
     ]
    }
   ],
   "source": [
    "import sys\n",
    "print(sys.executable)\n",
    "print(sys.version)\n",
    "print(sys.version_info)"
   ]
  },
  {
   "cell_type": "code",
   "execution_count": 2,
   "metadata": {},
   "outputs": [
    {
     "name": "stdout",
     "output_type": "stream",
     "text": [
      "3.8.5\n"
     ]
    }
   ],
   "source": [
    "from platform import python_version\n",
    "print(python_version())"
   ]
  },
  {
   "cell_type": "code",
   "execution_count": 1,
   "metadata": {},
   "outputs": [],
   "source": [
    "import sys\n",
    "import numpy as np\n",
    "\n",
    "data = [[0.08,0.72,1.0],\n",
    "        [0.01,1.00,0.0],\n",
    "        [0.26,0.58,1.0],\n",
    "        [0.35,0.95,0.0],\n",
    "        [0.45,0.15,1.0],\n",
    "        [0.60,0.30,1.0],\n",
    "        [0.70,0.65,0.0],\n",
    "        [0.92,0.45,0.0]]\n",
    "weights = [1.00, -1.00]\n",
    "bias = 0.20"
   ]
  },
  {
   "cell_type": "code",
   "execution_count": 2,
   "metadata": {
    "id": "tBMUTnpsIp60"
   },
   "outputs": [],
   "source": [
    "def predict(data, weights, bias):\n",
    "  threshold = 0.0\n",
    "  activation = 0.0\n",
    "  for input, weight in zip(data, weights):\n",
    "    activation += input * weight + bias\n",
    "  return 1.0 if activation >= threshold else 0.0"
   ]
  },
  {
   "cell_type": "code",
   "execution_count": 3,
   "metadata": {
    "id": "A1Ot43C1IsN3"
   },
   "outputs": [],
   "source": [
    "def accuracy(data, weights, bias):\n",
    "  score = 0.0\n",
    "  preds = []\n",
    "  for i in range(len(data)):\n",
    "    pred = predict(data[i][:-1], weights, bias)\n",
    "    preds.append(pred)\n",
    "    if pred == data[i][-1]: \n",
    "        score += 1.0\n",
    "  print(\"predictions: \", preds)\n",
    "  return score/float(len(data))"
   ]
  },
  {
   "cell_type": "code",
   "execution_count": 4,
   "metadata": {
    "id": "vfdse6DtIt7Z"
   },
   "outputs": [],
   "source": [
    "def train_weights(data, weights, bias, nb_epoch, l_rate, stop_early):\n",
    "\n",
    "  for epoch in range(nb_epoch):\n",
    "    print(\"Epoch:\",epoch)\n",
    "    cur_acc = accuracy(data, weights, bias)\n",
    "    print(\"Weights:\",weights,\"\\nAccuracy:\",cur_acc,\"\\n\")\n",
    "    \n",
    "    if cur_acc == 1.0 and stop_early: \n",
    "        break\n",
    "    for i in range(len(data)):\n",
    "      prediction = predict(data[i][:-1], weights, bias)\n",
    "      error = data[i][-1]-prediction      \n",
    "      for j in range (len(weights)):\n",
    "        weights[j] = weights[j] + (l_rate*error*data[i][j])\n",
    "        \n",
    "  return weights"
   ]
  },
  {
   "cell_type": "code",
   "execution_count": 5,
   "metadata": {
    "colab": {
     "base_uri": "https://localhost:8080/"
    },
    "id": "Yy-Ngg7mIxRx",
    "outputId": "14d23c27-01a0-424c-89a1-7e4c3448cbc5"
   },
   "outputs": [
    {
     "name": "stdout",
     "output_type": "stream",
     "text": [
      "Epoch: 0\n",
      "predictions:  [0.0, 0.0, 1.0, 0.0, 1.0, 1.0, 1.0, 1.0]\n",
      "Weights: [1.0, -1.0] \n",
      "Accuracy: 0.625 \n",
      "\n",
      "Epoch: 1\n",
      "predictions:  [0.0, 0.0, 0.0, 0.0, 1.0, 0.0, 0.0, 0.0]\n",
      "Weights: [0.28000000000000014, -2.3] \n",
      "Accuracy: 0.625 \n",
      "\n",
      "Epoch: 2\n",
      "predictions:  [0.0, 0.0, 0.0, 0.0, 1.0, 0.0, 0.0, 0.0]\n",
      "Weights: [-0.07999999999999985, -1.65] \n",
      "Accuracy: 0.625 \n",
      "\n",
      "Epoch: 3\n",
      "predictions:  [0.0, 0.0, 0.0, 0.0, 1.0, 0.0, 0.0, 0.0]\n",
      "Weights: [-0.18999999999999972, -1.65] \n",
      "Accuracy: 0.625 \n",
      "\n",
      "Epoch: 4\n",
      "predictions:  [0.0, 0.0, 0.0, 0.0, 1.0, 0.0, 0.0, 0.0]\n",
      "Weights: [-0.29999999999999966, -1.65] \n",
      "Accuracy: 0.625 \n",
      "\n",
      "Epoch: 5\n",
      "predictions:  [0.0, 0.0, 0.0, 0.0, 0.0, 0.0, 0.0, 0.0]\n",
      "Weights: [-0.6299999999999997, -1.4499999999999997] \n",
      "Accuracy: 0.5 \n",
      "\n",
      "Epoch: 6\n",
      "predictions:  [0.0, 0.0, 0.0, 0.0, 1.0, 1.0, 0.0, 0.0]\n",
      "Weights: [-0.18999999999999967, -0.9499999999999996] \n",
      "Accuracy: 0.75 \n",
      "\n",
      "Epoch: 7\n",
      "predictions:  [0.0, 0.0, 0.0, 0.0, 0.0, 0.0, 0.0, 0.0]\n",
      "Weights: [-0.5599999999999996, -1.2999999999999996] \n",
      "Accuracy: 0.5 \n",
      "\n",
      "Epoch: 8\n",
      "predictions:  [0.0, 0.0, 0.0, 0.0, 0.0, 0.0, 0.0, 0.0]\n",
      "Weights: [-0.8899999999999997, -1.0999999999999996] \n",
      "Accuracy: 0.5 \n",
      "\n",
      "Epoch: 9\n",
      "predictions:  [0.0, 0.0, 0.0, 0.0, 0.0, 0.0, 0.0, 0.0]\n",
      "Weights: [-0.6599999999999997, -1.1499999999999997] \n",
      "Accuracy: 0.5 \n",
      "\n"
     ]
    },
    {
     "data": {
      "text/plain": [
       "[-0.2199999999999997, -0.6499999999999997]"
      ]
     },
     "execution_count": 5,
     "metadata": {},
     "output_type": "execute_result"
    }
   ],
   "source": [
    "train_weights(data, weights, bias, 10, 1.0, True)"
   ]
  }
 ],
 "metadata": {
  "colab": {
   "collapsed_sections": [],
   "name": "Lab 1 (solution).ipynb",
   "provenance": []
  },
  "kernelspec": {
   "display_name": "Python 3",
   "language": "python",
   "name": "python3"
  },
  "language_info": {
   "codemirror_mode": {
    "name": "ipython",
    "version": 3
   },
   "file_extension": ".py",
   "mimetype": "text/x-python",
   "name": "python",
   "nbconvert_exporter": "python",
   "pygments_lexer": "ipython3",
   "version": "3.8.5"
  }
 },
 "nbformat": 4,
 "nbformat_minor": 1
}
