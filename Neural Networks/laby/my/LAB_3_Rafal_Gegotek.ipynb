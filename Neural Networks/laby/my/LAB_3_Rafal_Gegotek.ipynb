{
 "cells": [
  {
   "cell_type": "code",
   "execution_count": 1,
   "metadata": {
    "id": "y0eiYcAw_NSC"
   },
   "outputs": [],
   "source": [
    "import sys\n",
    "import numpy as np\n",
    "import math"
   ]
  },
  {
   "cell_type": "code",
   "execution_count": 2,
   "metadata": {
    "id": "AMhehExw_NSF"
   },
   "outputs": [],
   "source": [
    "data = np.array(\n",
    "    [[0.08,0.72,1.0],\n",
    "     [0.01,1.00,0.0],\n",
    "     [0.26,0.58,1.0],\n",
    "     [0.35,0.95,0.0],\n",
    "     [0.45,0.15,1.0],\n",
    "     [0.60,0.30,1.0],\n",
    "     [0.70,0.65,0.0],\n",
    "     [0.92,0.45,0.0]]\n",
    ")\n",
    "weights = [1.00, -1.00]\n",
    "bias1 = 0.20"
   ]
  },
  {
   "cell_type": "code",
   "execution_count": 3,
   "metadata": {},
   "outputs": [],
   "source": [
    "def sigmoid(x):\n",
    "    return 1.0 / (1.0+np.exp(-x))"
   ]
  },
  {
   "cell_type": "code",
   "execution_count": 4,
   "metadata": {},
   "outputs": [],
   "source": [
    "def sigmoid_dx(x):\n",
    "    return sigmoid(x) * (1.0-sigmoid(x))"
   ]
  },
  {
   "cell_type": "code",
   "execution_count": 5,
   "metadata": {},
   "outputs": [],
   "source": [
    "def loss(pred, true):\n",
    "    return (pred-true) ** 2"
   ]
  },
  {
   "cell_type": "code",
   "execution_count": 6,
   "metadata": {
    "id": "9BRFv3S-_NSG"
   },
   "outputs": [],
   "source": [
    "def loss_dy(pred, true):\n",
    "    return 2.0 * (pred-true)"
   ]
  },
  {
   "cell_type": "code",
   "execution_count": 7,
   "metadata": {
    "id": "904zadJJ_NSH"
   },
   "outputs": [],
   "source": [
    "def accuracy(data, weights1, weights2, bias1, bias2):\n",
    "    a1 = sigmoid(np.dot(weights1, data[:, :-1].T) + bias1)\n",
    "    preds = sigmoid(np.dot(weights2, a1) + bias2)\n",
    "    preds = np.where(preds >= 0.5, 1.0, 0.0)\n",
    "    return np.sum(preds == data[:, -1]) / data.shape[0]"
   ]
  },
  {
   "cell_type": "code",
   "execution_count": 8,
   "metadata": {
    "colab": {
     "base_uri": "https://localhost:8080/"
    },
    "id": "pwJWPlho_NSI",
    "outputId": "9181cfa4-e5f8-429c-9ab0-e816092c7bf5"
   },
   "outputs": [],
   "source": [
    "def train_weights(data, weights1, weights2, bias1, bias2, nb_epochs, l_rate,):\n",
    "    \n",
    "    for epoch in range(1, nb_epochs+1):\n",
    "        z1 = np.dot(weights1, data[:, :-1].T) + bias1\n",
    "        a1 = sigmoid(z1)\n",
    "        z2 = np.dot(weights2, a1) + bias2\n",
    "        pred = sigmoid(z2)\n",
    "\n",
    "        loss_score_dy = loss_dy(pred, data[:, -1])\n",
    "        \n",
    "        gradient_w1 = np.dot(np.dot((loss_score_dy * sigmoid_dx(z2)).T, weights2).T * sigmoid_dx(z1), data[:, :-1])\n",
    "        gradient_w2 = np.dot(loss_score_dy * sigmoid_dx(z2), a1.T)\n",
    "        weights1 -= l_rate * gradient_w1\n",
    "        weights2 -= l_rate * gradient_w2\n",
    "        \n",
    "        gradient_b1 = np.dot((loss_score_dy * sigmoid_dx(z2)).T,weights2).T * np.sum(sigmoid_dx(z1))\n",
    "        gradient_b2 = np.sum(loss_score_dy * sigmoid_dx(z2))\n",
    "        bias1 -= l_rate * gradient_b1\n",
    "        bias2 -= l_rate * gradient_b2\n",
    "\n",
    "        if epoch % 30 == 0:\n",
    "            loss_score = np.sum(loss(pred, data[:, -1])) / data.shape[0]\n",
    "            acc_score = accuracy(data, weights1, weights2, bias1, bias2)\n",
    "            print('\\nEpoch:',epoch,'\\nMSE=',loss_score,'\\nAccuracy',acc_score)\n",
    "    return weights1, weights2, bias1, bias2"
   ]
  },
  {
   "cell_type": "code",
   "execution_count": 9,
   "metadata": {},
   "outputs": [
    {
     "name": "stdout",
     "output_type": "stream",
     "text": [
      "\n",
      "Epoch: 30 \n",
      "MSE= 0.24908462433283393 \n",
      "Accuracy 0.5\n",
      "\n",
      "Epoch: 60 \n",
      "MSE= 0.24561848528236774 \n",
      "Accuracy 0.5\n",
      "\n",
      "Epoch: 90 \n",
      "MSE= 0.24220042509546785 \n",
      "Accuracy 0.5\n",
      "\n",
      "Epoch: 120 \n",
      "MSE= 0.23882784319728756 \n",
      "Accuracy 0.5\n",
      "\n",
      "Epoch: 150 \n",
      "MSE= 0.23549822533304926 \n",
      "Accuracy 0.5\n",
      "\n",
      "Epoch: 180 \n",
      "MSE= 0.2322091664789157 \n",
      "Accuracy 0.5\n",
      "\n",
      "Epoch: 210 \n",
      "MSE= 0.2289583900149382 \n",
      "Accuracy 0.5\n",
      "\n",
      "Epoch: 240 \n",
      "MSE= 0.22574376331694782 \n",
      "Accuracy 0.5\n",
      "\n",
      "Epoch: 270 \n",
      "MSE= 0.2225633099666393 \n",
      "Accuracy 0.625\n",
      "\n",
      "Epoch: 300 \n",
      "MSE= 0.21941521880755066 \n",
      "Accuracy 0.875\n",
      "\n",
      "Epoch: 330 \n",
      "MSE= 0.21629785009172592 \n",
      "Accuracy 1.0\n"
     ]
    }
   ],
   "source": [
    "out = train_weights(data, np.array([weights,weights]), np.array([weights]), bias1, bias1, 330, 0.001)"
   ]
  },
  {
   "cell_type": "code",
   "execution_count": 11,
   "metadata": {},
   "outputs": [
    {
     "name": "stdout",
     "output_type": "stream",
     "text": [
      "Random data:\n",
      "\n",
      "Epoch: 30 \n",
      "MSE= 0.10951204537551079 \n",
      "Accuracy 0.875\n",
      "\n",
      "Epoch: 60 \n",
      "MSE= 0.1092557521572494 \n",
      "Accuracy 0.875\n",
      "\n",
      "Epoch: 90 \n",
      "MSE= 0.10899866221671067 \n",
      "Accuracy 0.875\n",
      "\n",
      "Epoch: 120 \n",
      "MSE= 0.10874061415092327 \n",
      "Accuracy 0.875\n",
      "\n",
      "Epoch: 150 \n",
      "MSE= 0.10848144838063636 \n",
      "Accuracy 0.875\n",
      "\n",
      "Epoch: 180 \n",
      "MSE= 0.10822100692679612 \n",
      "Accuracy 0.875\n",
      "\n",
      "Epoch: 210 \n",
      "MSE= 0.10795913320099348 \n",
      "Accuracy 0.875\n",
      "\n",
      "Epoch: 240 \n",
      "MSE= 0.10769567180935435 \n",
      "Accuracy 0.875\n",
      "\n",
      "Epoch: 270 \n",
      "MSE= 0.10743046836943199 \n",
      "Accuracy 0.875\n",
      "\n",
      "Epoch: 300 \n",
      "MSE= 0.1071633693397462 \n",
      "Accuracy 0.875\n",
      "\n",
      "Epoch: 330 \n",
      "MSE= 0.10689422186169688 \n",
      "Accuracy 0.875\n",
      "\n",
      "Epoch: 360 \n",
      "MSE= 0.10662287361365777 \n",
      "Accuracy 0.875\n",
      "\n",
      "Epoch: 390 \n",
      "MSE= 0.10634917267713503 \n",
      "Accuracy 0.875\n",
      "\n",
      "Epoch: 420 \n",
      "MSE= 0.10607296741494905 \n",
      "Accuracy 0.875\n",
      "\n",
      "Epoch: 450 \n",
      "MSE= 0.10579410636147346 \n",
      "Accuracy 0.875\n",
      "\n",
      "Epoch: 480 \n",
      "MSE= 0.10551243812503616 \n",
      "Accuracy 0.875\n",
      "\n",
      "Epoch: 510 \n",
      "MSE= 0.10522781130265993 \n",
      "Accuracy 0.875\n",
      "\n",
      "Epoch: 540 \n",
      "MSE= 0.10494007440738985 \n",
      "Accuracy 0.875\n",
      "\n",
      "Epoch: 570 \n",
      "MSE= 0.10464907580852396 \n",
      "Accuracy 0.875\n",
      "\n",
      "Epoch: 600 \n",
      "MSE= 0.10435466368513265 \n",
      "Accuracy 0.875\n",
      "\n",
      "Epoch: 630 \n",
      "MSE= 0.10405668599331903 \n",
      "Accuracy 0.875\n"
     ]
    }
   ],
   "source": [
    "data_random_x = np.random.randn(8, 2)\n",
    "data_random_y = np.random.randint(0, 2, size=(8, 1))\n",
    "data_random = np.concatenate((data_random_x, data_random_y), axis=1)\n",
    "weights1_random = np.random.randn(2, 2)\n",
    "weights2_random = np.random.randn(1, 2)\n",
    "bias1_random = np.random.randn()\n",
    "bias2_random = np.random.randn()\n",
    "print(\"Random data:\")\n",
    "out = train_weights(data_random, weights1_random, weights2_random, bias1_random, bias2_random, 630, 0.001)"
   ]
  }
 ],
 "metadata": {
  "colab": {
   "collapsed_sections": [],
   "name": "Lab2.ipynb",
   "provenance": []
  },
  "kernelspec": {
   "display_name": "Python 3",
   "language": "python",
   "name": "python3"
  },
  "language_info": {
   "codemirror_mode": {
    "name": "ipython",
    "version": 3
   },
   "file_extension": ".py",
   "mimetype": "text/x-python",
   "name": "python",
   "nbconvert_exporter": "python",
   "pygments_lexer": "ipython3",
   "version": "3.8.5"
  }
 },
 "nbformat": 4,
 "nbformat_minor": 4
}
