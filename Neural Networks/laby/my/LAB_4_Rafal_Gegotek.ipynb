{
 "cells": [
  {
   "cell_type": "code",
   "execution_count": 2,
   "metadata": {
    "id": "y0eiYcAw_NSC"
   },
   "outputs": [],
   "source": [
    "import pandas as pd\n",
    "import numpy as np"
   ]
  },
  {
   "cell_type": "code",
   "execution_count": 3,
   "metadata": {},
   "outputs": [],
   "source": [
    "dataSet = pd.read_csv('dataSet/iris.data', header=None)\n",
    "dataSet.columns = ['sepal_length', 'sepal_width','petal_length', 'petal_width', 'class']\n",
    "dependsColumns = pd.get_dummies(dataSet['class'])\n",
    "data = pd.concat((dataSet, dependsColumns), axis=1)\n",
    "data = data.drop(['class'], axis=1).to_numpy()\n",
    "np.random.shuffle(data)\n",
    "X = data[:, :-3]\n",
    "y = data[:, -3:]"
   ]
  },
  {
   "cell_type": "code",
   "execution_count": 4,
   "metadata": {},
   "outputs": [],
   "source": [
    "def sigmoid(x):\n",
    "    return 1.0 / (1.0+np.exp(-x))"
   ]
  },
  {
   "cell_type": "code",
   "execution_count": 5,
   "metadata": {},
   "outputs": [],
   "source": [
    "def sigmoid_dx(x):\n",
    "    return sigmoid(x) * (1.0-sigmoid(x))"
   ]
  },
  {
   "cell_type": "code",
   "execution_count": 6,
   "metadata": {},
   "outputs": [],
   "source": [
    "def loss(x, y):\n",
    "    return -np.mean(np.sum(y*np.log(x), axis=1))"
   ]
  },
  {
   "cell_type": "code",
   "execution_count": 7,
   "metadata": {},
   "outputs": [],
   "source": [
    "def loss_dx(x, y):\n",
    "    return (x - y) / x.shape[0]"
   ]
  },
  {
   "cell_type": "code",
   "execution_count": 13,
   "metadata": {
    "id": "9BRFv3S-_NSG"
   },
   "outputs": [],
   "source": [
    "def accuracy(x, y):\n",
    "    x = np.argmax(x, axis=1)\n",
    "    y = np.argmax(y, axis=1)\n",
    "    return np.mean(x == y)"
   ]
  },
  {
   "cell_type": "code",
   "execution_count": 8,
   "metadata": {},
   "outputs": [],
   "source": [
    "def softmax(x):\n",
    "    exp_ = np.exp(x)\n",
    "    return exp_ / np.sum(exp_, axis=0)"
   ]
  },
  {
   "cell_type": "code",
   "execution_count": 9,
   "metadata": {},
   "outputs": [],
   "source": [
    "def feed_forward(X, W1, W2, b1, b2):\n",
    "    z1 = np.matmul(W1, X.T) + b1\n",
    "    a1 = sigmoid(z1)\n",
    "    z2 = np.matmul(W2, a1) + b2\n",
    "    a2 = softmax(z2)\n",
    "    return a2.T"
   ]
  },
  {
   "cell_type": "code",
   "execution_count": 10,
   "metadata": {},
   "outputs": [],
   "source": [
    "def train_batch(X, y, weight1, weight2, bias1, bias2, l_rate):\n",
    "    z1 = np.matmul(weight1, X.T) + bias1\n",
    "    a1 = sigmoid(z1)\n",
    "    z2 = np.matmul(weight2, a1) + bias2\n",
    "    a2 = softmax(z2)\n",
    "    \n",
    "    loss_prim = loss_dx(a2, y.T)\n",
    "    \n",
    "    grad_w2 = np.matmul(loss_prim, a1.T)\n",
    "    grad_w1 = np.matmul(np.matmul(weight2.T, loss_prim) * sigmoid_dx(a1), X)\n",
    "    weight2 -= grad_w2 * l_rate\n",
    "    weight1 -= grad_w1 * l_rate\n",
    "\n",
    "    grad_b2 = np.mean(loss_prim, axis=1, keepdims=True)\n",
    "    grad_b1 = np.mean(np.matmul(weight2.T, loss_prim) * sigmoid_dx(a1), axis=1, keepdims=True)\n",
    "    bias2 -= grad_b2 * l_rate\n",
    "    bias1 -= grad_b1 * l_rate\n",
    "\n",
    "def train_weights(X, y, weight1, weight2, bias1, bias2, l_rate, batch_size, epochs = 20):\n",
    "    size = X.shape[0]\n",
    "    for epoch in range(1, epochs+1):\n",
    "        rest = 1 if size % batch_size != 0 else 0\n",
    "        batches = size // batch_size + rest\n",
    "        for batch in range(batches):\n",
    "            batch_y = y[batch*batch_size : (batch+1)*batch_size, :]\n",
    "            batch_X = X[batch*batch_size : (batch+1)*batch_size, :]\n",
    "            train_batch(batch_X, batch_y, weight1, weight2, bias1, bias2, l_rate)\n",
    "        x = feed_forward(X, weight1, weight2, bias1, bias2)\n",
    "        loss_score = loss(x, y)\n",
    "        acc_score = accuracy(x, y)\n",
    "        print(\"Epoch:\",epoch,\"\\tLoss:\",loss_score,\"\\tAccurancy\",acc_score)"
   ]
  },
  {
   "cell_type": "code",
   "execution_count": 17,
   "metadata": {},
   "outputs": [],
   "source": [
    "weights1 = np.random.normal(scale=0.25, size=(4, 4))\n",
    "weights2 = np.random.normal(scale=0.25, size=(3, 4))\n",
    "def prepareWeightsAndBias():\n",
    "    bias1 = np.zeros((4, 1))\n",
    "    bias2 = np.zeros((3, 1))\n",
    "    return weights1.copy(), weights2.copy(), bias1, bias2"
   ]
  },
  {
   "cell_type": "markdown",
   "metadata": {},
   "source": [
    "## Optimization method: SGD"
   ]
  },
  {
   "cell_type": "code",
   "execution_count": 18,
   "metadata": {},
   "outputs": [
    {
     "name": "stdout",
     "output_type": "stream",
     "text": [
      "Epoch: 1 \tLoss: 1.061750435776887 \tAccurancy 0.3466666666666667\n",
      "Epoch: 2 \tLoss: 1.0646228551432755 \tAccurancy 0.3466666666666667\n",
      "Epoch: 3 \tLoss: 1.0610151876990521 \tAccurancy 0.34\n",
      "Epoch: 4 \tLoss: 0.9535478277163006 \tAccurancy 0.6666666666666666\n",
      "Epoch: 5 \tLoss: 0.8207631971647938 \tAccurancy 0.6666666666666666\n",
      "Epoch: 6 \tLoss: 0.7367822984316419 \tAccurancy 0.6666666666666666\n",
      "Epoch: 7 \tLoss: 0.6833028510948636 \tAccurancy 0.6666666666666666\n",
      "Epoch: 8 \tLoss: 0.6449791482335681 \tAccurancy 0.68\n",
      "Epoch: 9 \tLoss: 0.6139555033726881 \tAccurancy 0.7066666666666667\n",
      "Epoch: 10 \tLoss: 0.5879257926737885 \tAccurancy 0.7333333333333333\n",
      "Epoch: 11 \tLoss: 0.5688195093414496 \tAccurancy 0.7333333333333333\n",
      "Epoch: 12 \tLoss: 0.5542323628693572 \tAccurancy 0.7533333333333333\n",
      "Epoch: 13 \tLoss: 0.5429107794354421 \tAccurancy 0.7466666666666667\n",
      "Epoch: 14 \tLoss: 0.5345964743238276 \tAccurancy 0.74\n",
      "Epoch: 15 \tLoss: 0.5284788362848958 \tAccurancy 0.7533333333333333\n",
      "Epoch: 16 \tLoss: 0.5238352556083921 \tAccurancy 0.74\n",
      "Epoch: 17 \tLoss: 0.5201209854275243 \tAccurancy 0.7266666666666667\n",
      "Epoch: 18 \tLoss: 0.5167292245445935 \tAccurancy 0.7066666666666667\n",
      "Epoch: 19 \tLoss: 0.5128637182712487 \tAccurancy 0.7\n",
      "Epoch: 20 \tLoss: 0.5093021425410413 \tAccurancy 0.68\n"
     ]
    }
   ],
   "source": [
    "w1, w2, b1, b2 = prepareWeightsAndBias()\n",
    "train_weights(X, y, w1, w2, b1, b2, l_rate=0.1, batch_size=1)"
   ]
  },
  {
   "cell_type": "markdown",
   "metadata": {},
   "source": [
    "## Optimization method: Mini Batch GD"
   ]
  },
  {
   "cell_type": "code",
   "execution_count": 19,
   "metadata": {},
   "outputs": [
    {
     "name": "stdout",
     "output_type": "stream",
     "text": [
      "Epoch: 1 \tLoss: 1.0613715179596395 \tAccurancy 0.6666666666666666\n",
      "Epoch: 2 \tLoss: 1.049997433029863 \tAccurancy 0.62\n",
      "Epoch: 3 \tLoss: 1.0561503785866369 \tAccurancy 0.4266666666666667\n",
      "Epoch: 4 \tLoss: 0.9848235627182529 \tAccurancy 0.6666666666666666\n",
      "Epoch: 5 \tLoss: 0.8593231168563943 \tAccurancy 0.6666666666666666\n",
      "Epoch: 6 \tLoss: 0.7608741065490113 \tAccurancy 0.6666666666666666\n",
      "Epoch: 7 \tLoss: 0.6899785104780487 \tAccurancy 0.6666666666666666\n",
      "Epoch: 8 \tLoss: 0.6254373763982732 \tAccurancy 0.72\n",
      "Epoch: 9 \tLoss: 0.5918416155129692 \tAccurancy 0.72\n",
      "Epoch: 10 \tLoss: 0.5705574873301827 \tAccurancy 0.72\n",
      "Epoch: 11 \tLoss: 0.5424763736200318 \tAccurancy 0.7466666666666667\n",
      "Epoch: 12 \tLoss: 0.529112632109897 \tAccurancy 0.7466666666666667\n",
      "Epoch: 13 \tLoss: 0.5075987103238472 \tAccurancy 0.7666666666666667\n",
      "Epoch: 14 \tLoss: 0.503625250554478 \tAccurancy 0.7666666666666667\n",
      "Epoch: 15 \tLoss: 0.4979492881936111 \tAccurancy 0.7666666666666667\n",
      "Epoch: 16 \tLoss: 0.4978943771159976 \tAccurancy 0.7533333333333333\n",
      "Epoch: 17 \tLoss: 0.49910063199421906 \tAccurancy 0.74\n",
      "Epoch: 18 \tLoss: 0.49982532075008007 \tAccurancy 0.7266666666666667\n",
      "Epoch: 19 \tLoss: 0.4986724549696493 \tAccurancy 0.7133333333333334\n",
      "Epoch: 20 \tLoss: 0.4958318370567772 \tAccurancy 0.7\n"
     ]
    }
   ],
   "source": [
    "w1, w2, b1, b2 = prepareWeightsAndBias()\n",
    "train_weights(X, y, w1, w2, b1, b2, l_rate=0.1, batch_size=20)"
   ]
  },
  {
   "cell_type": "markdown",
   "metadata": {},
   "source": [
    "## Optimization method: GD"
   ]
  },
  {
   "cell_type": "code",
   "execution_count": 20,
   "metadata": {},
   "outputs": [
    {
     "name": "stdout",
     "output_type": "stream",
     "text": [
      "Epoch: 1 \tLoss: 1.0900290708172338 \tAccurancy 0.6\n",
      "Epoch: 2 \tLoss: 1.0853248595320948 \tAccurancy 0.66\n",
      "Epoch: 3 \tLoss: 1.0786885371814192 \tAccurancy 0.7533333333333333\n",
      "Epoch: 4 \tLoss: 1.0695414714771097 \tAccurancy 0.82\n",
      "Epoch: 5 \tLoss: 1.058938432390778 \tAccurancy 0.82\n",
      "Epoch: 6 \tLoss: 1.0495724755264912 \tAccurancy 0.7733333333333333\n",
      "Epoch: 7 \tLoss: 1.043750180083453 \tAccurancy 0.7066666666666667\n",
      "Epoch: 8 \tLoss: 1.0416586541469197 \tAccurancy 0.62\n",
      "Epoch: 9 \tLoss: 1.0420886404034175 \tAccurancy 0.5933333333333334\n",
      "Epoch: 10 \tLoss: 1.0438427796585126 \tAccurancy 0.64\n",
      "Epoch: 11 \tLoss: 1.0462793757938686 \tAccurancy 0.6666666666666666\n",
      "Epoch: 12 \tLoss: 1.049113919732586 \tAccurancy 0.6666666666666666\n",
      "Epoch: 13 \tLoss: 1.0520396504952478 \tAccurancy 0.6533333333333333\n",
      "Epoch: 14 \tLoss: 1.0544945607992413 \tAccurancy 0.6266666666666667\n",
      "Epoch: 15 \tLoss: 1.0556118763852638 \tAccurancy 0.6066666666666667\n",
      "Epoch: 16 \tLoss: 1.0542773258406875 \tAccurancy 0.5933333333333334\n",
      "Epoch: 17 \tLoss: 1.0492718681677395 \tAccurancy 0.5866666666666667\n",
      "Epoch: 18 \tLoss: 1.0395767189456493 \tAccurancy 0.6\n",
      "Epoch: 19 \tLoss: 1.0248175564643913 \tAccurancy 0.4533333333333333\n",
      "Epoch: 20 \tLoss: 1.0054740203345516 \tAccurancy 0.6066666666666667\n"
     ]
    }
   ],
   "source": [
    "w1, w2, b1, b2 = prepareWeightsAndBias()\n",
    "train_weights(X, y, w1, w2, b1, b2, l_rate=0.02, batch_size=150)"
   ]
  }
 ],
 "metadata": {
  "colab": {
   "collapsed_sections": [],
   "name": "Lab2.ipynb",
   "provenance": []
  },
  "kernelspec": {
   "display_name": "Python 3",
   "language": "python",
   "name": "python3"
  },
  "language_info": {
   "codemirror_mode": {
    "name": "ipython",
    "version": 3
   },
   "file_extension": ".py",
   "mimetype": "text/x-python",
   "name": "python",
   "nbconvert_exporter": "python",
   "pygments_lexer": "ipython3",
   "version": "3.8.5"
  }
 },
 "nbformat": 4,
 "nbformat_minor": 4
}
